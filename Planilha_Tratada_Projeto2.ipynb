{
 "cells": [
  {
   "cell_type": "markdown",
   "id": "60f3791b",
   "metadata": {},
   "source": [
    "<h1> Projeto 2 de Ciências de Dados </h1>"
   ]
  },
  {
   "cell_type": "markdown",
   "id": "0f21dcb0",
   "metadata": {},
   "source": [
    "<h2> Grupo 20 </h2>\n",
    "    <br>\n",
    "    <h4> Integrantes: \n",
    "    <br>\n",
    "    <br>\n",
    "    <ul>\n",
    "    <li> Venâncio Freitas </li>\n",
    "    <br>\n",
    "    <li> Welington Rodrigues </li>\n",
    "    <br>\n",
    "    <li> Henrique Puppi </li>\n",
    "    <br>\n",
    "    <li> Gabriel Fonseca </li>\n",
    "    <br>\n",
    "    </ul>\n",
    "    </h4>"
   ]
  },
  {
   "cell_type": "markdown",
   "id": "e10f68a8",
   "metadata": {},
   "source": [
    "## 1. Visão Geral do Projeto "
   ]
  },
  {
   "cell_type": "markdown",
   "id": "55056f7f",
   "metadata": {},
   "source": [
    "### Objetivo "
   ]
  },
  {
   "cell_type": "markdown",
   "id": "7e46851f",
   "metadata": {},
   "source": [
    " <p> O Trabalho em questão, envolverá a análise de uma base de dados envolvendo contratantes de diferentes produtos de planos de saúde, de modo que, a partir dos dados de cada contrato, estudar o perfil dos contratantes de diferentes segmentos assistenciais, entendendo os fatores contratuais que influenciam a escolha por cada tipo de serviço.</p>"
   ]
  },
  {
   "cell_type": "markdown",
   "id": "af031b1d",
   "metadata": {},
   "source": [
    "### Motivações "
   ]
  },
  {
   "cell_type": "markdown",
   "id": "1b0d7676",
   "metadata": {},
   "source": [
    "<li> Tendo em vista que a área da saúde é um pilar no desenvolvimento de qualquer estado, entende-se pelo grupo que é muito relevante estudar o perfil dos contratantes, para entender quais os serviços que são oferecidos para cada tipo de contrato, e, assim, direcionar estudos de  possíveis fatores socioeconômicos que levem à essa escolha</li>\n",
    "\n",
    "<li> Esse tipo de entendimento é muito relevante para cada prestador de serviços da área da saúde, pois, a partir do estudo de cada contrato, pode ser feito um levantamento hopitalar das possíveis demandas hospitalares necessárias.\n",
    "    \n"
   ]
  },
  {
   "cell_type": "markdown",
   "id": "1617e54e",
   "metadata": {},
   "source": [
    "### Base de Dados "
   ]
  },
  {
   "cell_type": "markdown",
   "id": "14b9a430",
   "metadata": {},
   "source": [
    "<p> A base de dados utilizada encontra-se na plataforma de DataSUS, baseado em um levantamento feito pela Agência Nacional da Saúde Suplementar, na seção de 'Saúde', do site citado, e pode ser acessado pelo link a seguir : <a href='https://dados.gov.br/dados/conjuntos-dados/produtos-e-prestadores-hospitalares'> Data.Gov</a>, onde as features estão explicadas no 'Dicionário de Dados', na aba recursos. Além disso, possui um arquivo Zip com a base de dados referente a mais de 10 Estados Brasileiras, o que permite a análise para grandes extensões geográficas. "
   ]
  },
  {
   "cell_type": "markdown",
   "id": "237a6e18",
   "metadata": {},
   "source": [
    "### Target "
   ]
  },
  {
   "cell_type": "markdown",
   "id": "5f0dcfdd",
   "metadata": {},
   "source": [
    "<p> A variável Target de estudo do grupo será a coluna 'SEGMENTACAO_ASSISTENCIAL' , que informa o tipo de assitência que cada plano de saúde fornece, contendo os segmentos de assitência de cada plano de saúde, que são: \n",
    "<br>\n",
    "<br>\n",
    "<li> AMBULATORIAL (Ambulatorial, Ambulatorial + Odontológico) </li>\n",
    "<li> AMB + HOSP C/ OBST (Ambulatorial + Hospitalar com obstetrícia, Ambulatorial + Hospitalar com obstetrícia + Odontológico, Referência) </li>\n",
    "<li> AMB + HOSP S/ OBST (Ambulatorial + Hospitalar sem obstetrícia , Ambulatorial + Hospitalar sem obstetrícia + Odontológico) </li>\n",
    "<li> HOSP C/ OBST (Hospitalar com obstetrícia, Hospitalar com obstetrícia + Odontológico) </li>\n",
    "<li> HOSP S/ OBST (Hospitalar sem obstetrícia, Hospitalar sem obstetrícia + Odontológico)</li>\n",
    "<li> ODONTOLÓGICO (Odontológico)</li>"
   ]
  },
  {
   "cell_type": "code",
   "execution_count": 1,
   "id": "f36801ec",
   "metadata": {},
   "outputs": [],
   "source": [
    "import pandas as pd\n",
    "pd.options.mode.chained_assignment = None\n",
    "from math import*\n",
    "import numpy as np\n",
    "\n",
    "import warnings\n",
    "warnings.simplefilter(action='ignore', category=FutureWarning)"
   ]
  },
  {
   "cell_type": "markdown",
   "id": "95b33944",
   "metadata": {},
   "source": [
    "### 1. Limpeza da Base de Dados"
   ]
  },
  {
   "cell_type": "code",
   "execution_count": 2,
   "id": "fefd56b5",
   "metadata": {},
   "outputs": [
    {
     "ename": "FileNotFoundError",
     "evalue": "[Errno 2] No such file or directory: 'produtos_prestadores_hospitalares_CE.csv'",
     "output_type": "error",
     "traceback": [
      "\u001b[1;31m---------------------------------------------------------------------------\u001b[0m",
      "\u001b[1;31mFileNotFoundError\u001b[0m                         Traceback (most recent call last)",
      "\u001b[1;32m~\\AppData\\Local\\Temp\\ipykernel_28748\\3559304934.py\u001b[0m in \u001b[0;36m<module>\u001b[1;34m\u001b[0m\n\u001b[1;32m----> 1\u001b[1;33m \u001b[0mdf\u001b[0m \u001b[1;33m=\u001b[0m \u001b[0mpd\u001b[0m\u001b[1;33m.\u001b[0m\u001b[0mread_csv\u001b[0m\u001b[1;33m(\u001b[0m\u001b[1;34m'produtos_prestadores_hospitalares_CE.csv'\u001b[0m\u001b[1;33m,\u001b[0m \u001b[0msep\u001b[0m\u001b[1;33m=\u001b[0m\u001b[1;34m';'\u001b[0m\u001b[1;33m)\u001b[0m  \u001b[1;31m# Change the delimiter as needed.\u001b[0m\u001b[1;33m\u001b[0m\u001b[1;33m\u001b[0m\u001b[0m\n\u001b[0m\u001b[0;32m      2\u001b[0m \u001b[0mdf\u001b[0m\u001b[1;33m\u001b[0m\u001b[1;33m\u001b[0m\u001b[0m\n",
      "\u001b[1;32mc:\\Users\\gabri\\anaconda3\\lib\\site-packages\\pandas\\util\\_decorators.py\u001b[0m in \u001b[0;36mwrapper\u001b[1;34m(*args, **kwargs)\u001b[0m\n\u001b[0;32m    309\u001b[0m                     \u001b[0mstacklevel\u001b[0m\u001b[1;33m=\u001b[0m\u001b[0mstacklevel\u001b[0m\u001b[1;33m,\u001b[0m\u001b[1;33m\u001b[0m\u001b[1;33m\u001b[0m\u001b[0m\n\u001b[0;32m    310\u001b[0m                 )\n\u001b[1;32m--> 311\u001b[1;33m             \u001b[1;32mreturn\u001b[0m \u001b[0mfunc\u001b[0m\u001b[1;33m(\u001b[0m\u001b[1;33m*\u001b[0m\u001b[0margs\u001b[0m\u001b[1;33m,\u001b[0m \u001b[1;33m**\u001b[0m\u001b[0mkwargs\u001b[0m\u001b[1;33m)\u001b[0m\u001b[1;33m\u001b[0m\u001b[1;33m\u001b[0m\u001b[0m\n\u001b[0m\u001b[0;32m    312\u001b[0m \u001b[1;33m\u001b[0m\u001b[0m\n\u001b[0;32m    313\u001b[0m         \u001b[1;32mreturn\u001b[0m \u001b[0mwrapper\u001b[0m\u001b[1;33m\u001b[0m\u001b[1;33m\u001b[0m\u001b[0m\n",
      "\u001b[1;32mc:\\Users\\gabri\\anaconda3\\lib\\site-packages\\pandas\\io\\parsers\\readers.py\u001b[0m in \u001b[0;36mread_csv\u001b[1;34m(filepath_or_buffer, sep, delimiter, header, names, index_col, usecols, squeeze, prefix, mangle_dupe_cols, dtype, engine, converters, true_values, false_values, skipinitialspace, skiprows, skipfooter, nrows, na_values, keep_default_na, na_filter, verbose, skip_blank_lines, parse_dates, infer_datetime_format, keep_date_col, date_parser, dayfirst, cache_dates, iterator, chunksize, compression, thousands, decimal, lineterminator, quotechar, quoting, doublequote, escapechar, comment, encoding, encoding_errors, dialect, error_bad_lines, warn_bad_lines, on_bad_lines, delim_whitespace, low_memory, memory_map, float_precision, storage_options)\u001b[0m\n\u001b[0;32m    676\u001b[0m     \u001b[0mkwds\u001b[0m\u001b[1;33m.\u001b[0m\u001b[0mupdate\u001b[0m\u001b[1;33m(\u001b[0m\u001b[0mkwds_defaults\u001b[0m\u001b[1;33m)\u001b[0m\u001b[1;33m\u001b[0m\u001b[1;33m\u001b[0m\u001b[0m\n\u001b[0;32m    677\u001b[0m \u001b[1;33m\u001b[0m\u001b[0m\n\u001b[1;32m--> 678\u001b[1;33m     \u001b[1;32mreturn\u001b[0m \u001b[0m_read\u001b[0m\u001b[1;33m(\u001b[0m\u001b[0mfilepath_or_buffer\u001b[0m\u001b[1;33m,\u001b[0m \u001b[0mkwds\u001b[0m\u001b[1;33m)\u001b[0m\u001b[1;33m\u001b[0m\u001b[1;33m\u001b[0m\u001b[0m\n\u001b[0m\u001b[0;32m    679\u001b[0m \u001b[1;33m\u001b[0m\u001b[0m\n\u001b[0;32m    680\u001b[0m \u001b[1;33m\u001b[0m\u001b[0m\n",
      "\u001b[1;32mc:\\Users\\gabri\\anaconda3\\lib\\site-packages\\pandas\\io\\parsers\\readers.py\u001b[0m in \u001b[0;36m_read\u001b[1;34m(filepath_or_buffer, kwds)\u001b[0m\n\u001b[0;32m    573\u001b[0m \u001b[1;33m\u001b[0m\u001b[0m\n\u001b[0;32m    574\u001b[0m     \u001b[1;31m# Create the parser.\u001b[0m\u001b[1;33m\u001b[0m\u001b[1;33m\u001b[0m\u001b[0m\n\u001b[1;32m--> 575\u001b[1;33m     \u001b[0mparser\u001b[0m \u001b[1;33m=\u001b[0m \u001b[0mTextFileReader\u001b[0m\u001b[1;33m(\u001b[0m\u001b[0mfilepath_or_buffer\u001b[0m\u001b[1;33m,\u001b[0m \u001b[1;33m**\u001b[0m\u001b[0mkwds\u001b[0m\u001b[1;33m)\u001b[0m\u001b[1;33m\u001b[0m\u001b[1;33m\u001b[0m\u001b[0m\n\u001b[0m\u001b[0;32m    576\u001b[0m \u001b[1;33m\u001b[0m\u001b[0m\n\u001b[0;32m    577\u001b[0m     \u001b[1;32mif\u001b[0m \u001b[0mchunksize\u001b[0m \u001b[1;32mor\u001b[0m \u001b[0miterator\u001b[0m\u001b[1;33m:\u001b[0m\u001b[1;33m\u001b[0m\u001b[1;33m\u001b[0m\u001b[0m\n",
      "\u001b[1;32mc:\\Users\\gabri\\anaconda3\\lib\\site-packages\\pandas\\io\\parsers\\readers.py\u001b[0m in \u001b[0;36m__init__\u001b[1;34m(self, f, engine, **kwds)\u001b[0m\n\u001b[0;32m    930\u001b[0m \u001b[1;33m\u001b[0m\u001b[0m\n\u001b[0;32m    931\u001b[0m         \u001b[0mself\u001b[0m\u001b[1;33m.\u001b[0m\u001b[0mhandles\u001b[0m\u001b[1;33m:\u001b[0m \u001b[0mIOHandles\u001b[0m \u001b[1;33m|\u001b[0m \u001b[1;32mNone\u001b[0m \u001b[1;33m=\u001b[0m \u001b[1;32mNone\u001b[0m\u001b[1;33m\u001b[0m\u001b[1;33m\u001b[0m\u001b[0m\n\u001b[1;32m--> 932\u001b[1;33m         \u001b[0mself\u001b[0m\u001b[1;33m.\u001b[0m\u001b[0m_engine\u001b[0m \u001b[1;33m=\u001b[0m \u001b[0mself\u001b[0m\u001b[1;33m.\u001b[0m\u001b[0m_make_engine\u001b[0m\u001b[1;33m(\u001b[0m\u001b[0mf\u001b[0m\u001b[1;33m,\u001b[0m \u001b[0mself\u001b[0m\u001b[1;33m.\u001b[0m\u001b[0mengine\u001b[0m\u001b[1;33m)\u001b[0m\u001b[1;33m\u001b[0m\u001b[1;33m\u001b[0m\u001b[0m\n\u001b[0m\u001b[0;32m    933\u001b[0m \u001b[1;33m\u001b[0m\u001b[0m\n\u001b[0;32m    934\u001b[0m     \u001b[1;32mdef\u001b[0m \u001b[0mclose\u001b[0m\u001b[1;33m(\u001b[0m\u001b[0mself\u001b[0m\u001b[1;33m)\u001b[0m\u001b[1;33m:\u001b[0m\u001b[1;33m\u001b[0m\u001b[1;33m\u001b[0m\u001b[0m\n",
      "\u001b[1;32mc:\\Users\\gabri\\anaconda3\\lib\\site-packages\\pandas\\io\\parsers\\readers.py\u001b[0m in \u001b[0;36m_make_engine\u001b[1;34m(self, f, engine)\u001b[0m\n\u001b[0;32m   1214\u001b[0m             \u001b[1;31m# \"Union[str, PathLike[str], ReadCsvBuffer[bytes], ReadCsvBuffer[str]]\"\u001b[0m\u001b[1;33m\u001b[0m\u001b[1;33m\u001b[0m\u001b[0m\n\u001b[0;32m   1215\u001b[0m             \u001b[1;31m# , \"str\", \"bool\", \"Any\", \"Any\", \"Any\", \"Any\", \"Any\"\u001b[0m\u001b[1;33m\u001b[0m\u001b[1;33m\u001b[0m\u001b[0m\n\u001b[1;32m-> 1216\u001b[1;33m             self.handles = get_handle(  # type: ignore[call-overload]\n\u001b[0m\u001b[0;32m   1217\u001b[0m                 \u001b[0mf\u001b[0m\u001b[1;33m,\u001b[0m\u001b[1;33m\u001b[0m\u001b[1;33m\u001b[0m\u001b[0m\n\u001b[0;32m   1218\u001b[0m                 \u001b[0mmode\u001b[0m\u001b[1;33m,\u001b[0m\u001b[1;33m\u001b[0m\u001b[1;33m\u001b[0m\u001b[0m\n",
      "\u001b[1;32mc:\\Users\\gabri\\anaconda3\\lib\\site-packages\\pandas\\io\\common.py\u001b[0m in \u001b[0;36mget_handle\u001b[1;34m(path_or_buf, mode, encoding, compression, memory_map, is_text, errors, storage_options)\u001b[0m\n\u001b[0;32m    784\u001b[0m         \u001b[1;32mif\u001b[0m \u001b[0mioargs\u001b[0m\u001b[1;33m.\u001b[0m\u001b[0mencoding\u001b[0m \u001b[1;32mand\u001b[0m \u001b[1;34m\"b\"\u001b[0m \u001b[1;32mnot\u001b[0m \u001b[1;32min\u001b[0m \u001b[0mioargs\u001b[0m\u001b[1;33m.\u001b[0m\u001b[0mmode\u001b[0m\u001b[1;33m:\u001b[0m\u001b[1;33m\u001b[0m\u001b[1;33m\u001b[0m\u001b[0m\n\u001b[0;32m    785\u001b[0m             \u001b[1;31m# Encoding\u001b[0m\u001b[1;33m\u001b[0m\u001b[1;33m\u001b[0m\u001b[0m\n\u001b[1;32m--> 786\u001b[1;33m             handle = open(\n\u001b[0m\u001b[0;32m    787\u001b[0m                 \u001b[0mhandle\u001b[0m\u001b[1;33m,\u001b[0m\u001b[1;33m\u001b[0m\u001b[1;33m\u001b[0m\u001b[0m\n\u001b[0;32m    788\u001b[0m                 \u001b[0mioargs\u001b[0m\u001b[1;33m.\u001b[0m\u001b[0mmode\u001b[0m\u001b[1;33m,\u001b[0m\u001b[1;33m\u001b[0m\u001b[1;33m\u001b[0m\u001b[0m\n",
      "\u001b[1;31mFileNotFoundError\u001b[0m: [Errno 2] No such file or directory: 'produtos_prestadores_hospitalares_CE.csv'"
     ]
    }
   ],
   "source": [
    "df = pd.read_csv('produtos_prestadores_hospitalares_CE.csv', sep=';')  # Change the delimiter as needed.\n",
    "df"
   ]
  },
  {
   "cell_type": "code",
   "execution_count": null,
   "id": "b9d5c4a9",
   "metadata": {},
   "outputs": [
    {
     "data": {
      "text/plain": [
       "['ID_REDE',\n",
       " 'CD_OPERADORA',\n",
       " 'NO_RAZAO',\n",
       " 'GR_MODALIDADE',\n",
       " 'DE_PORTE',\n",
       " 'ID_PLANO',\n",
       " 'CD_PLANO',\n",
       " 'TP_VIGENCIA_PLANO',\n",
       " 'CONTRATACAO',\n",
       " 'DE_TIPO_CONTRATACAO',\n",
       " 'DE_TIPO_MODALIDADE_FINM',\n",
       " 'SEGMENTACAO_ASSISTENCIAL',\n",
       " 'DE_TIPO_ABRANGENCIA_GEOGRAFICA',\n",
       " 'LG_FATOR_MODERADOR',\n",
       " 'DE_SITUACAO_PRINCIPAL',\n",
       " 'CD_SITUACAO_PLANO',\n",
       " 'ID_ESTABELECIMENTO_SAUDE',\n",
       " 'CD_CNPJ_ESTB_SAUDE',\n",
       " 'CD_CNES',\n",
       " 'NM_ESTABELECIMENTO_SAUDE',\n",
       " 'DE_CLAS_ESTB_SAUDE',\n",
       " 'LG_URGENCIA_EMERGENCIA',\n",
       " 'DE_TIPO_PRESTADOR',\n",
       " 'DE_TIPO_CONTRATO',\n",
       " 'DE_DISPONIBILIDADE',\n",
       " 'CD_MUNICIPIO',\n",
       " 'NM_MUNICIPIO',\n",
       " 'SG_UF',\n",
       " 'DT_VINCULO_INICIO',\n",
       " 'DT_VINCULO_FIM',\n",
       " 'NM_REGIAO',\n",
       " 'DT_ATUALIZACAO']"
      ]
     },
     "execution_count": 12,
     "metadata": {},
     "output_type": "execute_result"
    }
   ],
   "source": [
    "colunas = list(df.columns)\n",
    "colunas"
   ]
  },
  {
   "cell_type": "code",
   "execution_count": null,
   "id": "c520620e",
   "metadata": {},
   "outputs": [
    {
     "data": {
      "text/plain": [
       "DE_SITUACAO_PRINCIPAL\n",
       "ATIVO COM COMERCIALIZACAO SUSPENSA    827720\n",
       "ATIVO                                 252578\n",
       "Name: count, dtype: int64"
      ]
     },
     "execution_count": 13,
     "metadata": {},
     "output_type": "execute_result"
    }
   ],
   "source": [
    "df.DE_SITUACAO_PRINCIPAL.value_counts()"
   ]
  },
  {
   "cell_type": "code",
   "execution_count": null,
   "metadata": {},
   "outputs": [
    {
     "name": "stdout",
     "output_type": "stream",
     "text": [
      "Ano 2016\n",
      "Mes 09\n",
      "Dia 02\n"
     ]
    },
    {
     "data": {
      "text/plain": [
       "'2016-09-02'"
      ]
     },
     "execution_count": 14,
     "metadata": {},
     "output_type": "execute_result"
    }
   ],
   "source": [
    "print('Ano',df.DT_VINCULO_INICIO[0][:4])\n",
    "print('Mes',df.DT_VINCULO_INICIO[0][5:7])\n",
    "print('Dia',df.DT_VINCULO_INICIO[0][8:10])\n",
    "\n",
    "df.DT_VINCULO_INICIO[0]"
   ]
  },
  {
   "cell_type": "code",
   "execution_count": null,
   "metadata": {},
   "outputs": [],
   "source": [
    "df.DT_VINCULO_FIM = df.DT_VINCULO_FIM.fillna('Ativo')"
   ]
  },
  {
   "cell_type": "code",
   "execution_count": null,
   "metadata": {},
   "outputs": [],
   "source": [
    "df['Ano_Fim'] = 0\n",
    "df['Mes_Fim'] = 0\n",
    "for i in range (len(df)):\n",
    "    if df.DT_VINCULO_FIM[i] == 'Ativo':\n",
    "        df['Ano_Fim'][i] = 'Ativo'\n",
    "        df['Mes_Fim'][i] = 'Ativo'\n",
    "    else:\n",
    "        df['Ano_Fim'][i] = df.DT_VINCULO_FIM[i][:4]\n",
    "        df['Mes_Fim'][i] = df.DT_VINCULO_FIM[i][5:7]"
   ]
  },
  {
   "cell_type": "code",
   "execution_count": null,
   "metadata": {},
   "outputs": [],
   "source": [
    "df.head(10)"
   ]
  },
  {
   "cell_type": "markdown",
   "id": "83175a04",
   "metadata": {},
   "source": [
    "### 2. Análise Exploratória"
   ]
  },
  {
   "cell_type": "code",
   "execution_count": null,
   "id": "3381da67",
   "metadata": {},
   "outputs": [],
   "source": []
  },
  {
   "cell_type": "code",
   "execution_count": null,
   "id": "05a3d10f",
   "metadata": {},
   "outputs": [],
   "source": []
  },
  {
   "cell_type": "code",
   "execution_count": null,
   "id": "21ff104b",
   "metadata": {},
   "outputs": [],
   "source": []
  },
  {
   "cell_type": "code",
   "execution_count": null,
   "id": "24c5a735",
   "metadata": {},
   "outputs": [],
   "source": []
  },
  {
   "cell_type": "code",
   "execution_count": null,
   "id": "bf0a91d6",
   "metadata": {},
   "outputs": [],
   "source": []
  }
 ],
 "metadata": {
  "kernelspec": {
   "display_name": "Python 3 (ipykernel)",
   "language": "python",
   "name": "python3"
  },
  "language_info": {
   "codemirror_mode": {
    "name": "ipython",
    "version": 3
   },
   "file_extension": ".py",
   "mimetype": "text/x-python",
   "name": "python",
   "nbconvert_exporter": "python",
   "pygments_lexer": "ipython3",
   "version": "3.9.13"
  }
 },
 "nbformat": 4,
 "nbformat_minor": 5
}
