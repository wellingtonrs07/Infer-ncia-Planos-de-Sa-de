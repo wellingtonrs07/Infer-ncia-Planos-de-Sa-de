{
 "cells": [
  {
   "cell_type": "markdown",
   "id": "fe43b240",
   "metadata": {},
   "source": [
    "<h1> Projeto 2 de Ciências de Dados </h1>"
   ]
  },
  {
   "cell_type": "markdown",
   "id": "b370a984",
   "metadata": {},
   "source": [
    "<h2> Grupo 20 </h2>\n",
    "    <br>\n",
    "    <h4> Integrantes: \n",
    "    <br>\n",
    "    <br>\n",
    "    <ul>\n",
    "    <li> Venâncio Freitas </li>\n",
    "    <br>\n",
    "    <li> Welington Rodrigues </li>\n",
    "    <br>\n",
    "    <li> Henrique Puppi </li>\n",
    "    <br>\n",
    "    <li> Gabriel Fonseca </li>\n",
    "    <br>\n",
    "    </ul>\n",
    "    </h4>"
   ]
  },
  {
   "cell_type": "markdown",
   "id": "e658489d",
   "metadata": {},
   "source": [
    "## 1. Visão Geral do Projeto "
   ]
  },
  {
   "cell_type": "markdown",
   "id": "4d196c7e",
   "metadata": {},
   "source": [
    "### 1.1. Objetivo"
   ]
  },
  {
   "cell_type": "markdown",
   "id": "3dd4bbcb",
   "metadata": {},
   "source": [
    "<p> O Trabalho em questão será baseado no Censo realizado pela prefeitura de São Paulo no ano de 2021. Sendo assim, identificou-se como relevante pelo grupo a análise do perfil e das condições em comum de pessoas que encontram-se em situação de rua, buscando compreender e mensurar os fatores que contribuem para tal situação </p>"
   ]
  },
  {
   "cell_type": "markdown",
   "id": "c7383658",
   "metadata": {},
   "source": [
    "### Motivações "
   ]
  },
  {
   "cell_type": "markdown",
   "id": "556246a1",
   "metadata": {},
   "source": [
    "<p> Devido à crise global recente, motivada pela pandemia, o governo e a sociedade brasileira, passaram por dificuldades de manutenção da ordem nacional, principalmente em relação ao que tange o perfil socioeconômico. Assim, mostra-se relevante a análise do panorama desses moradores, para entender a situação de tais, como já citado. "
   ]
  },
  {
   "cell_type": "markdown",
   "id": "4f73e627",
   "metadata": {},
   "source": [
    "### Base de dados"
   ]
  },
  {
   "cell_type": "markdown",
   "id": "9b4af61f",
   "metadata": {},
   "source": [
    "<p> A base de dados que será analisada, trata-se de um Censo Realizado pela prefeitura de São Paulo no Ano de 2021, como já mencionado, e seu acesso é possível a partir do seguinte link: <a href='https://www.prefeitura.sp.gov.br/cidade/secretarias/assistencia_social/censo_2021/index.php?p=2007'> Censo 2021</a>\n",
    "    \n",
    "<h4> As features da base de dados são as seguintes: </h4>\n",
    "\n",
    "<br>\n",
    "<li> Situação de rua : Estado da Pessoa em relação à situação </li>\n",
    "<li> Onde dormiu ontem: Local onde a pessoa dormiu no dia anterior ao dia de pesquisa </li> \n",
    "<li> "
   ]
  },
  {
   "cell_type": "code",
   "execution_count": null,
   "id": "af035bca",
   "metadata": {},
   "outputs": [],
   "source": []
  }
 ],
 "metadata": {
  "kernelspec": {
   "display_name": "Python 3 (ipykernel)",
   "language": "python",
   "name": "python3"
  },
  "language_info": {
   "codemirror_mode": {
    "name": "ipython",
    "version": 3
   },
   "file_extension": ".py",
   "mimetype": "text/x-python",
   "name": "python",
   "nbconvert_exporter": "python",
   "pygments_lexer": "ipython3",
   "version": "3.9.13"
  }
 },
 "nbformat": 4,
 "nbformat_minor": 5
}
