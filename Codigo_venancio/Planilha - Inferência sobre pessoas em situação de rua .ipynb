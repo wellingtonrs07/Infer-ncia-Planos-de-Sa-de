{
 "cells": [
  {
   "cell_type": "markdown",
   "id": "fe43b240",
   "metadata": {},
   "source": [
    "<h1> Projeto 2 de Ciências de Dados </h1>"
   ]
  },
  {
   "cell_type": "markdown",
   "id": "b370a984",
   "metadata": {},
   "source": [
    "<h2> Grupo 20 </h2>\n",
    "    <br>\n",
    "    <h4> Integrantes: \n",
    "    <br>\n",
    "    <br>\n",
    "    <ul>\n",
    "    <li> Venâncio Freitas </li>\n",
    "    <br>\n",
    "    <li> Welington Rodrigues </li>\n",
    "    <br>\n",
    "    <li> Henrique Puppi </li>\n",
    "    <br>\n",
    "    <li> Gabriel Fonseca </li>\n",
    "    <br>\n",
    "    </ul>\n",
    "    </h4>"
   ]
  },
  {
   "cell_type": "markdown",
   "id": "e658489d",
   "metadata": {},
   "source": [
    "## 1. Visão Geral do Projeto "
   ]
  },
  {
   "cell_type": "markdown",
   "id": "4d196c7e",
   "metadata": {},
   "source": [
    "### 1.1. Objetivo"
   ]
  },
  {
   "cell_type": "markdown",
   "id": "3dd4bbcb",
   "metadata": {},
   "source": [
    " <p> O Trabalho em questão, envolverá a análise de uma base de dados na qual temos dados sociais sobre pessoas em situação de rua, a partir disso, iremos traçar o perfil envolvendo determinada situação de um desabrigado.</p>"
   ]
  },
  {
   "cell_type": "markdown",
   "id": "c7383658",
   "metadata": {},
   "source": [
    "### Motivações "
   ]
  },
  {
   "cell_type": "markdown",
   "id": "556246a1",
   "metadata": {},
   "source": [
    "<p> Devido à crise global recente, motivada pela pandemia, o governo e a sociedade brasileira, passaram por dificuldades de manutenção da ordem nacional, principalmente em relação ao que tange o perfil socioeconômico. Assim, mostra-se relevante a análise do panorama desses moradores, para entender a situação de tais, como já citado. "
   ]
  },
  {
   "cell_type": "markdown",
   "id": "4f73e627",
   "metadata": {},
   "source": [
    "### Base de dados"
   ]
  },
  {
   "cell_type": "markdown",
   "id": "9b4af61f",
   "metadata": {},
   "source": [
    "<p> A base de dados que será analisada, trata-se de um Censo Realizado pela prefeitura de São Paulo no Ano de 2021, como já mencionado, e seu acesso é possível a partir do seguinte link: <a href='https://www.prefeitura.sp.gov.br/cidade/secretarias/assistencia_social/censo_2021/index.php?p=2007'> Censo 2021</a>\n",
    "    \n",
    "<h3> As features da base de dados são as seguintes: </h3>\n",
    "<br>\n",
    "<br>\n",
    "<li> Situação de rua : Estado da Pessoa em relação à situação </li>\n",
    "<li> Onde dormiu ontem: Local onde a pessoa dormiu no dia anterior ao dia de pesquisa </li> \n",
    "<li> Tempo de Permanencia: Tempo em que a pessoa passou nas ruas </li>\n",
    "<li> Sexo: Sexo de nascença da pessoa </li> \n",
    "<li> Se identifica com o sexo de nascença:  Sexo ao qual a pessoa se identifica</li>\n",
    "<li> Idade: Número da idade da pessoa </li> \n",
    "<li> Faixa de idade: Intervalo de 10 anos da idade da pessoa </li> \n",
    "<li> Classificação de idade: Classificação de idade da pessoa </li> \n",
    "<li> Cor_Raça_Etnia: Cor, raça, ou Etnia da pessoa </li> \n",
    "<li> Parentes no CA: Se a pessoa tem parentes em Centros de Acolhimento </li>\n",
    "<li> Tempo na Situação: Tempo ao qual a pessoa encontra-se na situação ao qual ela está </li> \n",
    "<li> Tipo de Ponto: Tipo de local na rua ao qual ela encontra-se </li> \n",
    "<li> Presença_Moradia_Improvisada : Indica se a pessoa tem ou não moradia improvisada na sua situação </li> \n",
    "<li> Criança_acomp_adulto: Se tem criança acompanho de adulto entre o grupo consultado </li> \n",
    "<li> Criança_sozinha: Se tem uma criança sozinha na entrevista </li> \n",
    "<li> Latitude: Latitude da localidade ao qual a pessoa foi entrevistada </li> \n",
    "<li> Longitude: Longitude da pessoa entrevistada </li> \n",
    "<li> Data: Data ao qual foi feita a pesquisa </li> \n",
    "<li> Subprefeitura: Subprefeitura da cidade de São Paulo onde foi feita a entrevista </li> \n",
    "<li> Distrito: Divisão Administrativa do Município de São Paulo </li>\n",
    "\n",
    "<br>\n",
    "<br>"
   ]
  },
  {
   "cell_type": "markdown",
   "id": "9b089b86",
   "metadata": {},
   "source": [
    "### Target"
   ]
  },
  {
   "cell_type": "markdown",
   "id": "5da30883",
   "metadata": {},
   "source": [
    "O Target de Análise será a coluna 'Situação de rua', a qual, a partir das análises feitas pelo grupo, será feita a predicao de perfil, para definir se a pessoa está na Rua ou em Centros de Acolhimentos."
   ]
  },
  {
   "cell_type": "code",
   "execution_count": null,
   "id": "9ce9b0cc",
   "metadata": {},
   "outputs": [],
   "source": []
  }
 ],
 "metadata": {
  "kernelspec": {
   "display_name": "Python 3 (ipykernel)",
   "language": "python",
   "name": "python3"
  },
  "language_info": {
   "codemirror_mode": {
    "name": "ipython",
    "version": 3
   },
   "file_extension": ".py",
   "mimetype": "text/x-python",
   "name": "python",
   "nbconvert_exporter": "python",
   "pygments_lexer": "ipython3",
   "version": "3.9.13"
  }
 },
 "nbformat": 4,
 "nbformat_minor": 5
}
