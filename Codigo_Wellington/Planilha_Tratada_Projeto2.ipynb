{
 "cells": [
  {
   "cell_type": "markdown",
   "id": "60f3791b",
   "metadata": {},
   "source": [
    "<h1> Projeto 2 de Ciências de Dados </h1>"
   ]
  },
  {
   "cell_type": "markdown",
   "id": "0f21dcb0",
   "metadata": {},
   "source": [
    "<h2> Grupo 20 </h2>\n",
    "    <br>\n",
    "    <h4> Integrantes: \n",
    "    <br>\n",
    "    <br>\n",
    "    <ul>\n",
    "    <li> Venâncio Freitas </li>\n",
    "    <br>\n",
    "    <li> Welington Rodrigues </li>\n",
    "    <br>\n",
    "    <li> Henrique Puppi </li>\n",
    "    <br>\n",
    "    <li> Gabriel Fonseca </li>\n",
    "    <br>\n",
    "    </ul>\n",
    "    </h4>"
   ]
  },
  {
   "cell_type": "markdown",
   "id": "e10f68a8",
   "metadata": {},
   "source": [
    "## 1. Visão Geral do Projeto "
   ]
  },
  {
   "cell_type": "markdown",
   "id": "55056f7f",
   "metadata": {},
   "source": [
    "### Objetivo "
   ]
  },
  {
   "cell_type": "markdown",
   "id": "7e46851f",
   "metadata": {},
   "source": [
    " <p> O Trabalho em questão, envolverá a análise de uma base de dados na qual temos dados sociais sobre pessoas em situação de rua, a partir disso, iremos traçar o perfil envolvendo determinada situação de um desabrigado.</p>"
   ]
  },
  {
   "cell_type": "markdown",
   "id": "af031b1d",
   "metadata": {},
   "source": [
    "### Motivações "
   ]
  },
  {
   "cell_type": "markdown",
   "id": "1b0d7676",
   "metadata": {},
   "source": [
    "<li> Tendo em vista que, segundo o IBGE, o número de pessoas em situação de rua aumenta constantemente no Estado de São Paulo entende-se pelo grupo que é muito relevante estudar o perfil dessas, para entender quais suas necessidades e motivações que são oferecidos para cada tipo de contrato, e, assim, direcionar estudos de  possíveis fatores socioeconômicos que levem à essa escolha</li>\n",
    "\n",
    "<li> Esse tipo de entendimento é muito relevante para cada prestador de serviços da área da saúde, pois, a partir do estudo de cada contrato, pode ser feito um levantamento hopitalar das possíveis demandas hospitalares necessárias. </li>"
   ]
  },
  {
   "cell_type": "markdown",
   "id": "1617e54e",
   "metadata": {},
   "source": [
    "### Base de Dados "
   ]
  },
  {
   "cell_type": "markdown",
   "id": "14b9a430",
   "metadata": {},
   "source": [
    "<p> A base de dados utilizada encontra-se na plataforma de DataSUS, baseado em um levantamento feito pela Agência Nacional da Saúde Suplementar, na seção de 'Saúde', do site citado, e pode ser acessado pelo link a seguir : <a href='https://dados.gov.br/dados/conjuntos-dados/produtos-e-prestadores-hospitalares'> Data.Gov</a>, onde as features estão explicadas no 'Dicionário de Dados', na aba recursos. Além disso, possui um arquivo Zip com a base de dados referente a mais de 10 Estados Brasileiras, o que permite a análise para grandes extensões geográficas. "
   ]
  },
  {
   "cell_type": "markdown",
   "id": "237a6e18",
   "metadata": {},
   "source": [
    "### Target "
   ]
  },
  {
   "cell_type": "markdown",
   "id": "5f0dcfdd",
   "metadata": {},
   "source": [
    "<p> A variável Target de estudo do grupo será a coluna 'SEGMENTACAO_ASSISTENCIAL' , que informa o tipo de assitência que cada plano de saúde fornece, contendo os segmentos de assitência de cada plano de saúde, que são: \n",
    "<br>\n",
    "<br>\n",
    "<li> AMBULATORIAL (Ambulatorial, Ambulatorial + Odontológico) </li>\n",
    "<li> AMB + HOSP C/ OBST (Ambulatorial + Hospitalar com obstetrícia, Ambulatorial + Hospitalar com obstetrícia + Odontológico, Referência) </li>\n",
    "<li> AMB + HOSP S/ OBST (Ambulatorial + Hospitalar sem obstetrícia , Ambulatorial + Hospitalar sem obstetrícia + Odontológico) </li>\n",
    "<li> HOSP C/ OBST (Hospitalar com obstetrícia, Hospitalar com obstetrícia + Odontológico) </li>\n",
    "<li> HOSP S/ OBST (Hospitalar sem obstetrícia, Hospitalar sem obstetrícia + Odontológico)</li>\n",
    "<li> ODONTOLÓGICO (Odontológico)</li>"
   ]
  },
  {
   "cell_type": "code",
   "execution_count": 1,
   "id": "f36801ec",
   "metadata": {},
   "outputs": [],
   "source": [
    "import pandas as pd\n",
    "pd.options.mode.chained_assignment = None\n",
    "from math import*\n",
    "import numpy as np"
   ]
  },
  {
   "cell_type": "markdown",
   "id": "95b33944",
   "metadata": {},
   "source": [
    "### 1. Limpeza da Base de Dados"
   ]
  },
  {
   "cell_type": "code",
   "execution_count": 2,
   "id": "fefd56b5",
   "metadata": {},
   "outputs": [],
   "source": [
    "df = pd.read_excel('dados.xlsx')"
   ]
  },
  {
   "cell_type": "code",
   "execution_count": 3,
   "id": "e2425442",
   "metadata": {},
   "outputs": [
    {
     "data": {
      "text/plain": [
       "Parda                10866\n",
       "Sem identificação     8815\n",
       "Branca                5958\n",
       "Preta                 5478\n",
       "Não respondeu          395\n",
       "Indígena               186\n",
       "Amarela                186\n",
       "Name: Cor_Raça_Etnia, dtype: int64"
      ]
     },
     "execution_count": 3,
     "metadata": {},
     "output_type": "execute_result"
    }
   ],
   "source": [
    "df.Cor_Raça_Etnia.value_counts()"
   ]
  },
  {
   "cell_type": "markdown",
   "id": "83175a04",
   "metadata": {},
   "source": [
    "### 2. Análise Exploratória"
   ]
  },
  {
   "cell_type": "code",
   "execution_count": null,
   "id": "3381da67",
   "metadata": {},
   "outputs": [],
   "source": []
  },
  {
   "cell_type": "code",
   "execution_count": null,
   "id": "05a3d10f",
   "metadata": {},
   "outputs": [],
   "source": []
  },
  {
   "cell_type": "code",
   "execution_count": null,
   "id": "21ff104b",
   "metadata": {},
   "outputs": [],
   "source": []
  },
  {
   "cell_type": "code",
   "execution_count": null,
   "id": "24c5a735",
   "metadata": {},
   "outputs": [],
   "source": []
  },
  {
   "cell_type": "code",
   "execution_count": null,
   "id": "bf0a91d6",
   "metadata": {},
   "outputs": [],
   "source": []
  }
 ],
 "metadata": {
  "kernelspec": {
   "display_name": "Python 3 (ipykernel)",
   "language": "python",
   "name": "python3"
  },
  "language_info": {
   "codemirror_mode": {
    "name": "ipython",
    "version": 3
   },
   "file_extension": ".py",
   "mimetype": "text/x-python",
   "name": "python",
   "nbconvert_exporter": "python",
   "pygments_lexer": "ipython3",
   "version": "3.9.13"
  }
 },
 "nbformat": 4,
 "nbformat_minor": 5
}
