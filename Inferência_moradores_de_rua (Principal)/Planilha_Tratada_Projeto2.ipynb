{
 "cells": [
  {
   "cell_type": "markdown",
   "id": "60f3791b",
   "metadata": {},
   "source": [
    "<h1> Projeto 2 de Ciências de Dados </h1>"
   ]
  },
  {
   "cell_type": "markdown",
   "id": "0f21dcb0",
   "metadata": {},
   "source": [
    "<h2> Grupo 20 </h2>\n",
    "    <br>\n",
    "    <h4> Integrantes: \n",
    "    <br>\n",
    "    <br>\n",
    "    <ul>\n",
    "    <li> Venâncio Freitas </li>\n",
    "    <br>\n",
    "    <li> Welington Rodrigues </li>\n",
    "    <br>\n",
    "    <li> Henrique Puppi </li>\n",
    "    <br>\n",
    "    <li> Gabriel Fonseca </li>\n",
    "    <br>\n",
    "    </ul>\n",
    "    </h4>"
   ]
  },
  {
   "cell_type": "markdown",
   "id": "e10f68a8",
   "metadata": {},
   "source": [
    "## 1. Visão Geral do Projeto "
   ]
  },
  {
   "cell_type": "markdown",
   "id": "55056f7f",
   "metadata": {},
   "source": [
    "### Objetivo "
   ]
  },
  {
   "cell_type": "markdown",
   "id": "7e46851f",
   "metadata": {},
   "source": [
    " <p> O Trabalho em questão, envolverá a análise de uma base de dados na qual temos dados sociais sobre pessoas em situação de rua, a partir disso, iremos traçar o perfil envolvendo determinada situação de um desabrigado. Dessa forma, iremos levar em consideração tanto o perfil socioeconômico, quanto questões socioecônimocas regionais, para, a partir disso, obter-se informções acerca de um panorama geral dos indicadores. </p>"
   ]
  },
  {
   "cell_type": "markdown",
   "id": "af031b1d",
   "metadata": {},
   "source": [
    "### Motivações "
   ]
  },
  {
   "cell_type": "markdown",
   "id": "1b0d7676",
   "metadata": {},
   "source": [
    "<p> Um dos grandes indicadores de desenvolvimento regional e da qualidade de vida de uma região, é o número de pessoas em situação de rua. Sendo assim, o grupo entende como relevante ao governo de um Estado entender o perfil por trás dessas situações para, a partir disso, destinar recursos para reduzir tal situação. </p>"
   ]
  },
  {
   "cell_type": "markdown",
   "id": "1617e54e",
   "metadata": {},
   "source": [
    "### Base de Dados  Principal "
   ]
  },
  {
   "cell_type": "markdown",
   "id": "14b9a430",
   "metadata": {},
   "source": [
    "<p> A base de dados que será analisada, trata-se de um Censo Realizado pela prefeitura de São Paulo no Ano de 2021, como já mencionado, e seu acesso é possível a partir do seguinte link: <a href='https://www.prefeitura.sp.gov.br/cidade/secretarias/assistencia_social/censo_2021/index.php?p=2007'> Censo 2021</a>\n",
    "\n",
    "    \n",
    "<h3> As features da base de dados são as seguintes: </h3>\n",
    "<br>\n",
    "<br>\n",
    "<li> Situação de rua : Estado da Pessoa em relação à situação </li>\n",
    "<li> Onde dormiu ontem: Local onde a pessoa dormiu no dia anterior ao dia de pesquisa </li> \n",
    "<li> Tempo de Permanencia: Tempo em que a pessoa passou nas ruas </li>\n",
    "<li> Sexo: Sexo de nascença da pessoa </li> \n",
    "<li> Se identifica com o sexo de nascença:  Sexo ao qual a pessoa se identifica</li>\n",
    "<li> Idade: Número da idade da pessoa </li> \n",
    "<li> Faixa de idade: Intervalo de 10 anos da idade da pessoa </li> \n",
    "<li> Classificação de idade: Classificação de idade da pessoa </li> \n",
    "<li> Cor_Raça_Etnia: Cor, raça, ou Etnia da pessoa </li> \n",
    "<li> Parentes no CA: Se a pessoa tem parentes em Centros de Acolhimento </li>\n",
    "<li> Tempo na Situação: Tempo ao qual a pessoa encontra-se na situação ao qual ela está </li> \n",
    "<li> Tipo de Ponto: Tipo de local na rua ao qual ela encontra-se </li> \n",
    "<li> Presença_Moradia_Improvisada : Indica se a pessoa tem ou não moradia improvisada na sua situação </li> \n",
    "<li> Criança_acomp_adulto: Se tem criança acompanho de adulto entre o grupo consultado </li> \n",
    "<li> Criança_sozinha: Se tem uma criança sozinha na entrevista </li> \n",
    "<li> Latitude: Latitude da localidade ao qual a pessoa foi entrevistada </li> \n",
    "<li> Longitude: Longitude da pessoa entrevistada </li> \n",
    "<li> Data: Data ao qual foi feita a pesquisa </li> \n",
    "<li> Subprefeitura: Subprefeitura da cidade de São Paulo onde foi feita a entrevista </li> \n",
    "<li> Distrito: Divisão Administrativa do Município de São Paulo </li>\n",
    "\n",
    "<br>\n",
    "<br>"
   ]
  },
  {
   "cell_type": "markdown",
   "id": "46bbe052",
   "metadata": {},
   "source": [
    "### Base de dados Secundária "
   ]
  },
  {
   "cell_type": "markdown",
   "id": "aa49d9c8",
   "metadata": {},
   "source": [
    "<p>Como, na situação analisada, torna-se relevante, também, a análise de indicadores sociais regionais, buscou-se pelo grupo tais indicadores sociais correspondentes às subprefeituras da cidade de São Paulo. Porém, nos deparamos com dificuldades para encontrar dados recentes e, por isso, só foi possível encontrar dados do censo de 2010 da cidade de São Paulo, mostrados para a professora orientadora Maria Kelly, e assim, aceitos para o estudo em questão. </p>\n",
    "\n",
    "Segue Abaixo o Link com a base de dados e o dicionário das variáveis: \n",
    "\n",
    "<a href  = 'https://dados.gov.br/dados/conjuntos-dados/atlasbrasil' > Indicadores  Atlas da Cidade de São Paulo <a/> "
   ]
  },
  {
   "cell_type": "markdown",
   "id": "237a6e18",
   "metadata": {},
   "source": [
    "### Target "
   ]
  },
  {
   "cell_type": "markdown",
   "id": "5f0dcfdd",
   "metadata": {},
   "source": [
    "O Target de Análise será a coluna 'Situação de rua', a qual, a partir das análises feitas pelo grupo, será feita a predicao de perfil, para definir se a pessoa está na Rua ou em Centros de Acolhimentos."
   ]
  },
  {
   "cell_type": "markdown",
   "id": "498bed63",
   "metadata": {},
   "source": [
    "### Importando Bibliotecas relevantes para o Projeto"
   ]
  },
  {
   "cell_type": "code",
   "execution_count": 15,
   "id": "f36801ec",
   "metadata": {},
   "outputs": [],
   "source": [
    "%matplotlib inline\n",
    "import pandas as pd\n",
    "pd.options.mode.chained_assignment = None\n",
    "from math import*\n",
    "import numpy as np\n",
    "import os\n",
    "import matplotlib.pyplot as plt\n",
    "import seaborn as sns\n",
    "import warnings\n",
    "warnings.simplefilter(action='ignore', category=FutureWarning)\n",
    "import folium.plugins \n",
    "from folium.plugins import HeatMap\n",
    "from sklearn.metrics import confusion_matrix \n",
    "from sklearn.model_selection import train_test_split \n",
    "from sklearn.tree import DecisionTreeClassifier \n",
    "from sklearn.metrics import accuracy_score \n",
    "from sklearn.metrics import classification_report \n",
    "from folium.plugins import HeatMap\n",
    "from sklearn.metrics import confusion_matrix \n",
    "from sklearn.metrics import accuracy_score \n",
    "from sklearn.preprocessing import LabelEncoder\n",
    "from sklearn.metrics import classification_report \n",
    "from sklearn.model_selection import train_test_split\n",
    "from sklearn.linear_model import LogisticRegression\n",
    "from sklearn import metrics\n",
    "import seaborn as sn\n",
    "import folium.plugins \n",
    "from folium.plugins import HeatMap\n",
    "from sklearn import preprocessing\n",
    "from sklearn.naive_bayes import MultinomialNB"
   ]
  },
  {
   "cell_type": "markdown",
   "id": "95b33944",
   "metadata": {},
   "source": [
    "## 1. Identificação e Limpeza das Bases de dados "
   ]
  },
  {
   "cell_type": "markdown",
   "id": "391f3576",
   "metadata": {},
   "source": [
    "### Remoção de colunas inconclusivas e irrelevantes para a análise: "
   ]
  },
  {
   "cell_type": "code",
   "execution_count": 16,
   "id": "fefd56b5",
   "metadata": {},
   "outputs": [
    {
     "data": {
      "text/html": [
       "<div>\n",
       "<style scoped>\n",
       "    .dataframe tbody tr th:only-of-type {\n",
       "        vertical-align: middle;\n",
       "    }\n",
       "\n",
       "    .dataframe tbody tr th {\n",
       "        vertical-align: top;\n",
       "    }\n",
       "\n",
       "    .dataframe thead th {\n",
       "        text-align: right;\n",
       "    }\n",
       "</style>\n",
       "<table border=\"1\" class=\"dataframe\">\n",
       "  <thead>\n",
       "    <tr style=\"text-align: right;\">\n",
       "      <th></th>\n",
       "      <th>ID</th>\n",
       "      <th>Situação de rua</th>\n",
       "      <th>Onde dormiu ontem</th>\n",
       "      <th>Tempo de permanência</th>\n",
       "      <th>Sexo</th>\n",
       "      <th>Identifica com o sexo nasceu</th>\n",
       "      <th>Idade</th>\n",
       "      <th>Faixa de idade</th>\n",
       "      <th>Classificação de idade</th>\n",
       "      <th>Cor_Raça_Etnia</th>\n",
       "      <th>...</th>\n",
       "      <th>Tempo na situação</th>\n",
       "      <th>Tipo de ponto</th>\n",
       "      <th>Presença_Moradia_Improvisada</th>\n",
       "      <th>Criança_acomp_Adulto</th>\n",
       "      <th>Criança_Sozinha</th>\n",
       "      <th>Latitude</th>\n",
       "      <th>Longitude</th>\n",
       "      <th>Data</th>\n",
       "      <th>Subprefeitura</th>\n",
       "      <th>Distrito</th>\n",
       "    </tr>\n",
       "  </thead>\n",
       "  <tbody>\n",
       "    <tr>\n",
       "      <th>0</th>\n",
       "      <td>1</td>\n",
       "      <td>Rua</td>\n",
       "      <td>Não se aplica</td>\n",
       "      <td>Não se aplica</td>\n",
       "      <td>Feminino</td>\n",
       "      <td>Não respondeu</td>\n",
       "      <td>Não respondeu</td>\n",
       "      <td>Sem informação</td>\n",
       "      <td>Sem informação</td>\n",
       "      <td>Sem identificação</td>\n",
       "      <td>...</td>\n",
       "      <td>NR/NS</td>\n",
       "      <td>Praça</td>\n",
       "      <td>Não</td>\n",
       "      <td>Não</td>\n",
       "      <td>Não</td>\n",
       "      <td>-23.496278</td>\n",
       "      <td>-46.391831</td>\n",
       "      <td>2021-10-25</td>\n",
       "      <td>Itaim Paulista</td>\n",
       "      <td>Itaim Paulista</td>\n",
       "    </tr>\n",
       "    <tr>\n",
       "      <th>1</th>\n",
       "      <td>2</td>\n",
       "      <td>Acolhido</td>\n",
       "      <td>Rua</td>\n",
       "      <td>Não se aplica</td>\n",
       "      <td>Masculino</td>\n",
       "      <td>Homem Cisgênero</td>\n",
       "      <td>38</td>\n",
       "      <td>31 a 49</td>\n",
       "      <td>Adulto</td>\n",
       "      <td>Parda</td>\n",
       "      <td>...</td>\n",
       "      <td>Mais de 10 anos</td>\n",
       "      <td>Não se aplica</td>\n",
       "      <td>Não se aplica</td>\n",
       "      <td>Não se aplica</td>\n",
       "      <td>Não se aplica</td>\n",
       "      <td>-23.522517</td>\n",
       "      <td>-46.522712</td>\n",
       "      <td>2021-10-25</td>\n",
       "      <td>Penha</td>\n",
       "      <td>Penha</td>\n",
       "    </tr>\n",
       "    <tr>\n",
       "      <th>2</th>\n",
       "      <td>3</td>\n",
       "      <td>Rua</td>\n",
       "      <td>Não se aplica</td>\n",
       "      <td>Não se aplica</td>\n",
       "      <td>Feminino</td>\n",
       "      <td>Mulher Cisgênero</td>\n",
       "      <td>27</td>\n",
       "      <td>18 a 30</td>\n",
       "      <td>Juventude</td>\n",
       "      <td>Parda</td>\n",
       "      <td>...</td>\n",
       "      <td>Mais de 2 anos até 5 anos</td>\n",
       "      <td>Praça</td>\n",
       "      <td>Sim</td>\n",
       "      <td>Não</td>\n",
       "      <td>Não</td>\n",
       "      <td>-23.523293</td>\n",
       "      <td>-46.654984</td>\n",
       "      <td>2021-11-03</td>\n",
       "      <td>Sé</td>\n",
       "      <td>Santa Cecília</td>\n",
       "    </tr>\n",
       "    <tr>\n",
       "      <th>3</th>\n",
       "      <td>4</td>\n",
       "      <td>Rua</td>\n",
       "      <td>Não se aplica</td>\n",
       "      <td>Não se aplica</td>\n",
       "      <td>Masculino</td>\n",
       "      <td>Homem Cisgênero</td>\n",
       "      <td>15</td>\n",
       "      <td>12 a 17</td>\n",
       "      <td>Adolescente</td>\n",
       "      <td>Branca</td>\n",
       "      <td>...</td>\n",
       "      <td>Mais de 5 anos até 10 anos</td>\n",
       "      <td>Calçada</td>\n",
       "      <td>Sim</td>\n",
       "      <td>Não</td>\n",
       "      <td>Não</td>\n",
       "      <td>-23.743078</td>\n",
       "      <td>-46.692948</td>\n",
       "      <td>2021-10-27</td>\n",
       "      <td>Capela do Socorro</td>\n",
       "      <td>Grajaú</td>\n",
       "    </tr>\n",
       "    <tr>\n",
       "      <th>4</th>\n",
       "      <td>5</td>\n",
       "      <td>Rua</td>\n",
       "      <td>Não se aplica</td>\n",
       "      <td>Não se aplica</td>\n",
       "      <td>Feminino</td>\n",
       "      <td>Mulher Cisgênero</td>\n",
       "      <td>Não respondeu</td>\n",
       "      <td>Sem informação</td>\n",
       "      <td>Sem informação</td>\n",
       "      <td>Sem identificação</td>\n",
       "      <td>...</td>\n",
       "      <td>NR/NS</td>\n",
       "      <td>Canteiro central</td>\n",
       "      <td>Sim</td>\n",
       "      <td>Não</td>\n",
       "      <td>Não</td>\n",
       "      <td>-23.525142</td>\n",
       "      <td>-46.625523</td>\n",
       "      <td>2021-11-09</td>\n",
       "      <td>Mooca</td>\n",
       "      <td>Pari</td>\n",
       "    </tr>\n",
       "  </tbody>\n",
       "</table>\n",
       "<p>5 rows × 21 columns</p>\n",
       "</div>"
      ],
      "text/plain": [
       "   ID Situação de rua Onde dormiu ontem Tempo de permanência       Sexo  \\\n",
       "0   1             Rua     Não se aplica        Não se aplica   Feminino   \n",
       "1   2        Acolhido               Rua        Não se aplica  Masculino   \n",
       "2   3             Rua     Não se aplica        Não se aplica   Feminino   \n",
       "3   4             Rua     Não se aplica        Não se aplica  Masculino   \n",
       "4   5             Rua     Não se aplica        Não se aplica   Feminino   \n",
       "\n",
       "  Identifica com o sexo nasceu          Idade  Faixa de idade  \\\n",
       "0                Não respondeu  Não respondeu  Sem informação   \n",
       "1              Homem Cisgênero             38         31 a 49   \n",
       "2             Mulher Cisgênero             27         18 a 30   \n",
       "3              Homem Cisgênero             15         12 a 17   \n",
       "4             Mulher Cisgênero  Não respondeu  Sem informação   \n",
       "\n",
       "  Classificação de idade     Cor_Raça_Etnia  ...           Tempo na situação  \\\n",
       "0         Sem informação  Sem identificação  ...                       NR/NS   \n",
       "1                 Adulto              Parda  ...             Mais de 10 anos   \n",
       "2              Juventude              Parda  ...   Mais de 2 anos até 5 anos   \n",
       "3            Adolescente             Branca  ...  Mais de 5 anos até 10 anos   \n",
       "4         Sem informação  Sem identificação  ...                       NR/NS   \n",
       "\n",
       "      Tipo de ponto Presença_Moradia_Improvisada Criança_acomp_Adulto  \\\n",
       "0             Praça                          Não                  Não   \n",
       "1     Não se aplica                Não se aplica        Não se aplica   \n",
       "2             Praça                          Sim                  Não   \n",
       "3           Calçada                          Sim                  Não   \n",
       "4  Canteiro central                          Sim                  Não   \n",
       "\n",
       "  Criança_Sozinha   Latitude  Longitude       Data      Subprefeitura  \\\n",
       "0             Não -23.496278 -46.391831 2021-10-25     Itaim Paulista   \n",
       "1   Não se aplica -23.522517 -46.522712 2021-10-25              Penha   \n",
       "2             Não -23.523293 -46.654984 2021-11-03                 Sé   \n",
       "3             Não -23.743078 -46.692948 2021-10-27  Capela do Socorro   \n",
       "4             Não -23.525142 -46.625523 2021-11-09              Mooca   \n",
       "\n",
       "         Distrito  \n",
       "0  Itaim Paulista  \n",
       "1           Penha  \n",
       "2   Santa Cecília  \n",
       "3          Grajaú  \n",
       "4            Pari  \n",
       "\n",
       "[5 rows x 21 columns]"
      ]
     },
     "execution_count": 16,
     "metadata": {},
     "output_type": "execute_result"
    }
   ],
   "source": [
    "df = pd.read_excel('dados.xlsx')\n",
    "df = pd.DataFrame(df)\n",
    "\n",
    "\n",
    "df.head(5)"
   ]
  },
  {
   "cell_type": "markdown",
   "id": "c18d3e83",
   "metadata": {},
   "source": [
    "<p> Identificando ao observar a base de dados, percebe-se que as colunas 'Presença de Moradia Improvisada' , 'Tipo de Ponto'  , 'Onde dormiu ontem' 'Tempo de permanência' , 'Criança_sozinha e 'Criança Acompanha de adulto', só têm valores ou para o target 'rua' ou para o target 'acolhidos'. Logo, são dados que só permitem analisar apenas 1 tipo de target e, não são conclusivos para uma análise de perfil.Então, serão features removidas da Base de Dados </p>\n"
   ]
  },
  {
   "cell_type": "code",
   "execution_count": 17,
   "id": "c655ca1e",
   "metadata": {},
   "outputs": [
    {
     "data": {
      "text/html": [
       "<div>\n",
       "<style scoped>\n",
       "    .dataframe tbody tr th:only-of-type {\n",
       "        vertical-align: middle;\n",
       "    }\n",
       "\n",
       "    .dataframe tbody tr th {\n",
       "        vertical-align: top;\n",
       "    }\n",
       "\n",
       "    .dataframe thead th {\n",
       "        text-align: right;\n",
       "    }\n",
       "</style>\n",
       "<table border=\"1\" class=\"dataframe\">\n",
       "  <thead>\n",
       "    <tr style=\"text-align: right;\">\n",
       "      <th></th>\n",
       "      <th>Situação de rua</th>\n",
       "      <th>Sexo</th>\n",
       "      <th>Identifica com o sexo nasceu</th>\n",
       "      <th>Idade</th>\n",
       "      <th>Faixa de idade</th>\n",
       "      <th>Classificação de idade</th>\n",
       "      <th>Cor_Raça_Etnia</th>\n",
       "      <th>Parentes no CA</th>\n",
       "      <th>Tempo na situação</th>\n",
       "      <th>Latitude</th>\n",
       "      <th>Longitude</th>\n",
       "      <th>Data</th>\n",
       "      <th>Subprefeitura</th>\n",
       "      <th>Distrito</th>\n",
       "    </tr>\n",
       "  </thead>\n",
       "  <tbody>\n",
       "    <tr>\n",
       "      <th>0</th>\n",
       "      <td>Rua</td>\n",
       "      <td>Feminino</td>\n",
       "      <td>Não respondeu</td>\n",
       "      <td>Não respondeu</td>\n",
       "      <td>Sem informação</td>\n",
       "      <td>Sem informação</td>\n",
       "      <td>Sem identificação</td>\n",
       "      <td>Não informado</td>\n",
       "      <td>NR/NS</td>\n",
       "      <td>-23.496278</td>\n",
       "      <td>-46.391831</td>\n",
       "      <td>2021-10-25</td>\n",
       "      <td>Itaim Paulista</td>\n",
       "      <td>Itaim Paulista</td>\n",
       "    </tr>\n",
       "    <tr>\n",
       "      <th>1</th>\n",
       "      <td>Acolhido</td>\n",
       "      <td>Masculino</td>\n",
       "      <td>Homem Cisgênero</td>\n",
       "      <td>38</td>\n",
       "      <td>31 a 49</td>\n",
       "      <td>Adulto</td>\n",
       "      <td>Parda</td>\n",
       "      <td>Sim</td>\n",
       "      <td>Mais de 10 anos</td>\n",
       "      <td>-23.522517</td>\n",
       "      <td>-46.522712</td>\n",
       "      <td>2021-10-25</td>\n",
       "      <td>Penha</td>\n",
       "      <td>Penha</td>\n",
       "    </tr>\n",
       "    <tr>\n",
       "      <th>2</th>\n",
       "      <td>Rua</td>\n",
       "      <td>Feminino</td>\n",
       "      <td>Mulher Cisgênero</td>\n",
       "      <td>27</td>\n",
       "      <td>18 a 30</td>\n",
       "      <td>Juventude</td>\n",
       "      <td>Parda</td>\n",
       "      <td>Sim</td>\n",
       "      <td>Mais de 2 anos até 5 anos</td>\n",
       "      <td>-23.523293</td>\n",
       "      <td>-46.654984</td>\n",
       "      <td>2021-11-03</td>\n",
       "      <td>Sé</td>\n",
       "      <td>Santa Cecília</td>\n",
       "    </tr>\n",
       "    <tr>\n",
       "      <th>3</th>\n",
       "      <td>Rua</td>\n",
       "      <td>Masculino</td>\n",
       "      <td>Homem Cisgênero</td>\n",
       "      <td>15</td>\n",
       "      <td>12 a 17</td>\n",
       "      <td>Adolescente</td>\n",
       "      <td>Branca</td>\n",
       "      <td>Sim</td>\n",
       "      <td>Mais de 5 anos até 10 anos</td>\n",
       "      <td>-23.743078</td>\n",
       "      <td>-46.692948</td>\n",
       "      <td>2021-10-27</td>\n",
       "      <td>Capela do Socorro</td>\n",
       "      <td>Grajaú</td>\n",
       "    </tr>\n",
       "    <tr>\n",
       "      <th>4</th>\n",
       "      <td>Rua</td>\n",
       "      <td>Feminino</td>\n",
       "      <td>Mulher Cisgênero</td>\n",
       "      <td>Não respondeu</td>\n",
       "      <td>Sem informação</td>\n",
       "      <td>Sem informação</td>\n",
       "      <td>Sem identificação</td>\n",
       "      <td>Sim</td>\n",
       "      <td>NR/NS</td>\n",
       "      <td>-23.525142</td>\n",
       "      <td>-46.625523</td>\n",
       "      <td>2021-11-09</td>\n",
       "      <td>Mooca</td>\n",
       "      <td>Pari</td>\n",
       "    </tr>\n",
       "  </tbody>\n",
       "</table>\n",
       "</div>"
      ],
      "text/plain": [
       "  Situação de rua       Sexo Identifica com o sexo nasceu          Idade  \\\n",
       "0             Rua   Feminino                Não respondeu  Não respondeu   \n",
       "1        Acolhido  Masculino              Homem Cisgênero             38   \n",
       "2             Rua   Feminino             Mulher Cisgênero             27   \n",
       "3             Rua  Masculino              Homem Cisgênero             15   \n",
       "4             Rua   Feminino             Mulher Cisgênero  Não respondeu   \n",
       "\n",
       "   Faixa de idade Classificação de idade     Cor_Raça_Etnia Parentes no CA  \\\n",
       "0  Sem informação         Sem informação  Sem identificação  Não informado   \n",
       "1         31 a 49                 Adulto              Parda            Sim   \n",
       "2         18 a 30              Juventude              Parda            Sim   \n",
       "3         12 a 17            Adolescente             Branca            Sim   \n",
       "4  Sem informação         Sem informação  Sem identificação            Sim   \n",
       "\n",
       "            Tempo na situação   Latitude  Longitude       Data  \\\n",
       "0                       NR/NS -23.496278 -46.391831 2021-10-25   \n",
       "1             Mais de 10 anos -23.522517 -46.522712 2021-10-25   \n",
       "2   Mais de 2 anos até 5 anos -23.523293 -46.654984 2021-11-03   \n",
       "3  Mais de 5 anos até 10 anos -23.743078 -46.692948 2021-10-27   \n",
       "4                       NR/NS -23.525142 -46.625523 2021-11-09   \n",
       "\n",
       "       Subprefeitura        Distrito  \n",
       "0     Itaim Paulista  Itaim Paulista  \n",
       "1              Penha           Penha  \n",
       "2                 Sé   Santa Cecília  \n",
       "3  Capela do Socorro          Grajaú  \n",
       "4              Mooca            Pari  "
      ]
     },
     "execution_count": 17,
     "metadata": {},
     "output_type": "execute_result"
    }
   ],
   "source": [
    "df = df.drop('ID', axis=1) # Como o target ID apenas contabiliza a pessoa, logo não é relevante para a análise.\n",
    "df = df.drop('Tipo de ponto' , axis=1)\n",
    "df = df.drop('Presença_Moradia_Improvisada' , axis = 1)\n",
    "df = df.drop('Onde dormiu ontem' , axis= 1)\n",
    "df = df.drop('Tempo de permanência' , axis = 1 )\n",
    "df = df.drop('Criança_Sozinha' , axis = 1 )\n",
    "df = df.drop('Criança_acomp_Adulto' , axis = 1 )\n",
    "\n",
    "\n",
    "df.head(5)"
   ]
  },
  {
   "cell_type": "markdown",
   "id": "3ae1adde",
   "metadata": {},
   "source": [
    "Visualizando as colunas remanecentes: "
   ]
  },
  {
   "cell_type": "code",
   "execution_count": 18,
   "id": "fba8516f",
   "metadata": {},
   "outputs": [
    {
     "data": {
      "text/plain": [
       "Index(['Situação de rua', 'Sexo', 'Identifica com o sexo nasceu', 'Idade',\n",
       "       'Faixa de idade', 'Classificação de idade', 'Cor_Raça_Etnia',\n",
       "       'Parentes no CA', 'Tempo na situação', 'Latitude', 'Longitude', 'Data',\n",
       "       'Subprefeitura', 'Distrito'],\n",
       "      dtype='object')"
      ]
     },
     "execution_count": 18,
     "metadata": {},
     "output_type": "execute_result"
    }
   ],
   "source": [
    "df.columns"
   ]
  },
  {
   "cell_type": "markdown",
   "id": "042f5387",
   "metadata": {},
   "source": [
    "### Leitura da Base de dados Socioeconômica"
   ]
  },
  {
   "cell_type": "markdown",
   "id": "1ab286d9",
   "metadata": {},
   "source": [
    "<p> A base de dados socioeconômica apresenta dados de diferentes subprefeituras de SP nos anos de 2000 e de 2010. Assim, tornou-se necessário filtrar apenas as Subprefeituras presentes em ambas as bases de dados. </p>"
   ]
  },
  {
   "cell_type": "code",
   "execution_count": 19,
   "id": "7738c675",
   "metadata": {},
   "outputs": [
    {
     "data": {
      "text/html": [
       "<div>\n",
       "<style scoped>\n",
       "    .dataframe tbody tr th:only-of-type {\n",
       "        vertical-align: middle;\n",
       "    }\n",
       "\n",
       "    .dataframe tbody tr th {\n",
       "        vertical-align: top;\n",
       "    }\n",
       "\n",
       "    .dataframe thead th {\n",
       "        text-align: right;\n",
       "    }\n",
       "</style>\n",
       "<table border=\"1\" class=\"dataframe\">\n",
       "  <thead>\n",
       "    <tr style=\"text-align: right;\">\n",
       "      <th></th>\n",
       "      <th>Cod_Reg</th>\n",
       "      <th>NOME_REG</th>\n",
       "      <th>COD_MUN</th>\n",
       "      <th>NOME_MUN</th>\n",
       "      <th>NOME_RM</th>\n",
       "      <th>CODRM</th>\n",
       "      <th>ANO</th>\n",
       "      <th>ESPVIDA</th>\n",
       "      <th>FECTOT</th>\n",
       "      <th>MORT1</th>\n",
       "      <th>...</th>\n",
       "      <th>T_FLFUND_TUDO</th>\n",
       "      <th>T_FLMED_TUDO</th>\n",
       "      <th>T_FLBAS_TUDO</th>\n",
       "      <th>T_FUND11A13_TUDO</th>\n",
       "      <th>I_ESCOLARIDADE</th>\n",
       "      <th>I_FREQ_PROP</th>\n",
       "      <th>IDHM</th>\n",
       "      <th>IDHM_E</th>\n",
       "      <th>IDHM_L</th>\n",
       "      <th>IDHM_R</th>\n",
       "    </tr>\n",
       "  </thead>\n",
       "  <tbody>\n",
       "    <tr>\n",
       "      <th>0</th>\n",
       "      <td>335503001</td>\n",
       "      <td>Aricanduva / Vila Formosa</td>\n",
       "      <td>355030</td>\n",
       "      <td>São Paulo</td>\n",
       "      <td>RM São Paulo (SP)</td>\n",
       "      <td>63500</td>\n",
       "      <td>2000</td>\n",
       "      <td>74.49</td>\n",
       "      <td>1.63</td>\n",
       "      <td>15.4</td>\n",
       "      <td>...</td>\n",
       "      <td>97.43</td>\n",
       "      <td>67.27</td>\n",
       "      <td>95.42</td>\n",
       "      <td>93.70</td>\n",
       "      <td>0.578</td>\n",
       "      <td>0.718</td>\n",
       "      <td>0.762</td>\n",
       "      <td>0.668</td>\n",
       "      <td>0.825</td>\n",
       "      <td>0.804</td>\n",
       "    </tr>\n",
       "    <tr>\n",
       "      <th>1</th>\n",
       "      <td>335503002</td>\n",
       "      <td>Butantã</td>\n",
       "      <td>355030</td>\n",
       "      <td>São Paulo</td>\n",
       "      <td>RM São Paulo (SP)</td>\n",
       "      <td>63500</td>\n",
       "      <td>2000</td>\n",
       "      <td>75.53</td>\n",
       "      <td>1.68</td>\n",
       "      <td>13.8</td>\n",
       "      <td>...</td>\n",
       "      <td>96.18</td>\n",
       "      <td>60.39</td>\n",
       "      <td>93.51</td>\n",
       "      <td>87.79</td>\n",
       "      <td>0.635</td>\n",
       "      <td>0.680</td>\n",
       "      <td>0.789</td>\n",
       "      <td>0.665</td>\n",
       "      <td>0.842</td>\n",
       "      <td>0.876</td>\n",
       "    </tr>\n",
       "    <tr>\n",
       "      <th>2</th>\n",
       "      <td>335503003</td>\n",
       "      <td>Campo Limpo</td>\n",
       "      <td>355030</td>\n",
       "      <td>São Paulo</td>\n",
       "      <td>RM São Paulo (SP)</td>\n",
       "      <td>63500</td>\n",
       "      <td>2000</td>\n",
       "      <td>74.37</td>\n",
       "      <td>2.01</td>\n",
       "      <td>15.6</td>\n",
       "      <td>...</td>\n",
       "      <td>94.18</td>\n",
       "      <td>48.53</td>\n",
       "      <td>90.86</td>\n",
       "      <td>87.20</td>\n",
       "      <td>0.481</td>\n",
       "      <td>0.582</td>\n",
       "      <td>0.699</td>\n",
       "      <td>0.546</td>\n",
       "      <td>0.823</td>\n",
       "      <td>0.760</td>\n",
       "    </tr>\n",
       "    <tr>\n",
       "      <th>3</th>\n",
       "      <td>335503004</td>\n",
       "      <td>Capela do Socorro</td>\n",
       "      <td>355030</td>\n",
       "      <td>São Paulo</td>\n",
       "      <td>RM São Paulo (SP)</td>\n",
       "      <td>63500</td>\n",
       "      <td>2000</td>\n",
       "      <td>70.97</td>\n",
       "      <td>2.21</td>\n",
       "      <td>21.6</td>\n",
       "      <td>...</td>\n",
       "      <td>93.15</td>\n",
       "      <td>47.55</td>\n",
       "      <td>90.05</td>\n",
       "      <td>83.96</td>\n",
       "      <td>0.468</td>\n",
       "      <td>0.550</td>\n",
       "      <td>0.656</td>\n",
       "      <td>0.521</td>\n",
       "      <td>0.766</td>\n",
       "      <td>0.707</td>\n",
       "    </tr>\n",
       "    <tr>\n",
       "      <th>4</th>\n",
       "      <td>335503005</td>\n",
       "      <td>Casa Verde</td>\n",
       "      <td>355030</td>\n",
       "      <td>São Paulo</td>\n",
       "      <td>RM São Paulo (SP)</td>\n",
       "      <td>63500</td>\n",
       "      <td>2000</td>\n",
       "      <td>74.59</td>\n",
       "      <td>1.85</td>\n",
       "      <td>15.2</td>\n",
       "      <td>...</td>\n",
       "      <td>95.33</td>\n",
       "      <td>58.11</td>\n",
       "      <td>92.79</td>\n",
       "      <td>89.05</td>\n",
       "      <td>0.550</td>\n",
       "      <td>0.652</td>\n",
       "      <td>0.732</td>\n",
       "      <td>0.616</td>\n",
       "      <td>0.827</td>\n",
       "      <td>0.769</td>\n",
       "    </tr>\n",
       "  </tbody>\n",
       "</table>\n",
       "<p>5 rows × 234 columns</p>\n",
       "</div>"
      ],
      "text/plain": [
       "     Cod_Reg                   NOME_REG  COD_MUN   NOME_MUN  \\\n",
       "0  335503001  Aricanduva / Vila Formosa   355030  São Paulo   \n",
       "1  335503002                    Butantã   355030  São Paulo   \n",
       "2  335503003                Campo Limpo   355030  São Paulo   \n",
       "3  335503004          Capela do Socorro   355030  São Paulo   \n",
       "4  335503005                 Casa Verde   355030  São Paulo   \n",
       "\n",
       "             NOME_RM  CODRM   ANO  ESPVIDA  FECTOT  MORT1  ...  T_FLFUND_TUDO  \\\n",
       "0  RM São Paulo (SP)  63500  2000    74.49    1.63   15.4  ...          97.43   \n",
       "1  RM São Paulo (SP)  63500  2000    75.53    1.68   13.8  ...          96.18   \n",
       "2  RM São Paulo (SP)  63500  2000    74.37    2.01   15.6  ...          94.18   \n",
       "3  RM São Paulo (SP)  63500  2000    70.97    2.21   21.6  ...          93.15   \n",
       "4  RM São Paulo (SP)  63500  2000    74.59    1.85   15.2  ...          95.33   \n",
       "\n",
       "   T_FLMED_TUDO  T_FLBAS_TUDO  T_FUND11A13_TUDO  I_ESCOLARIDADE  I_FREQ_PROP  \\\n",
       "0         67.27         95.42             93.70           0.578        0.718   \n",
       "1         60.39         93.51             87.79           0.635        0.680   \n",
       "2         48.53         90.86             87.20           0.481        0.582   \n",
       "3         47.55         90.05             83.96           0.468        0.550   \n",
       "4         58.11         92.79             89.05           0.550        0.652   \n",
       "\n",
       "    IDHM  IDHM_E  IDHM_L  IDHM_R  \n",
       "0  0.762   0.668   0.825   0.804  \n",
       "1  0.789   0.665   0.842   0.876  \n",
       "2  0.699   0.546   0.823   0.760  \n",
       "3  0.656   0.521   0.766   0.707  \n",
       "4  0.732   0.616   0.827   0.769  \n",
       "\n",
       "[5 rows x 234 columns]"
      ]
     },
     "execution_count": 19,
     "metadata": {},
     "output_type": "execute_result"
    }
   ],
   "source": [
    "df_socio = pd.read_excel('socio.xlsx')\n",
    "df = df.loc[(df.Subprefeitura != 'Sapopemba')].reset_index(drop=True) \n",
    "\n",
    "df_socio.head(5)"
   ]
  },
  {
   "cell_type": "markdown",
   "id": "b830ad58",
   "metadata": {},
   "source": [
    "<p> Nesse momento, para não tornar a análise distoante da realidade, utilizaremos os dados referentes ao ano de 2010, último censo ao qual temos acesso </p> "
   ]
  },
  {
   "cell_type": "code",
   "execution_count": 20,
   "id": "276f3892",
   "metadata": {},
   "outputs": [],
   "source": [
    "df_socio_2010 = df_socio[(df_socio.ANO == 2010)]"
   ]
  },
  {
   "cell_type": "markdown",
   "id": "1edcd93c",
   "metadata": {},
   "source": [
    "Vamos trocar as '/' nas subprefeituras dessa base de dados, para tornar a identificação igual à como é feito na base de dados principal"
   ]
  },
  {
   "cell_type": "code",
   "execution_count": 21,
   "id": "1d7e1339",
   "metadata": {},
   "outputs": [],
   "source": [
    "dict_replace = {\n",
    "'Aricanduva / Vila Formosa': 'Aricanduva-Formosa-Carrão',\n",
    "'Casa Verde': 'Casa Verde-Cachoeirinha',\n",
    "'Freguesia do Ó / Brasilândia': 'Freguesia-Brasilândia',\n",
    "'Jaçanã / Tremembé': 'Jaçanã-Tremembé',\n",
    "'Pirituba / Jaraguá': 'Pirituba-Jaraguá',\n",
    "'Santana / Tucuruvi': 'Santana-Tucuruvi',\n",
    "'São Miguel Paulista': 'São Miguel',\n",
    "'Vila Maria / Vila Guilherme': 'Vila Maria-Vila Guilherme',\n",
    "}\n",
    "\n",
    "df_socio_2010 = df_socio_2010.replace(dict_replace)"
   ]
  },
  {
   "cell_type": "markdown",
   "id": "a755664f",
   "metadata": {},
   "source": [
    "<p> Além disso, a base socioeconômica possui mais de 200 indicadores Atlas, e isso torna muito difícil o procedimento de análise principal. Portanto, o grupo fez um processo de seleção simplificada das variáveis disponíveis, às quais foram escolhidas as seguintes variáveis: </p> \n",
    "\n",
    "<ul>\n",
    "\n",
    "<li> IDHM: Índice de Desenvolvimento Humano </li> \n",
    "<li> I_ESCOLARIDADE: Índice de Escolaridade </li>\n",
    "<li> I_FREQ_POP</li> \n",
    "<li> POP </li>\n",
    "<li> PEA18M </li>\n",
    "<li>'T_FUNDIN_TODOS_MMEIO'  </li>\n",
    "<li>''AGUA_ESGOTO' </li>\n",
    "<li> RENOCUP </li>\n",
    "<li> RDPC </li>\n",
    "<li> PPOB </li>\n",
    "<li> Gini </li>\n",
    "<li> RAZDEP </li>\n",
    "    \n",
    "</ul>\n",
    "\n",
    "No dicionário Fornecido no link do tópico de visão geral do projeto, estão as especificações acerca do significado de cada um deles."
   ]
  },
  {
   "cell_type": "code",
   "execution_count": 22,
   "id": "5ca54f22",
   "metadata": {},
   "outputs": [],
   "source": [
    "df_socio_usar = df_socio_2010.loc[:,['NOME_REG','IDHM','I_ESCOLARIDADE','I_FREQ_PROP','POP','PEA18M','T_FUNDIN_TODOS_MMEIO','AGUA_ESGOTO','RENOCUP','RDPC','PPOB','GINI','RAZDEP']]"
   ]
  },
  {
   "cell_type": "markdown",
   "id": "bf365e9a",
   "metadata": {},
   "source": [
    "#### Nesse momento, é necessário juntar as series em apenas 1 base de dados, com correspondência de dados entre as Subprefeituras."
   ]
  },
  {
   "cell_type": "code",
   "execution_count": 23,
   "id": "5b4b1cd9",
   "metadata": {},
   "outputs": [],
   "source": [
    "colunas_usar = ['IDHM','I_ESCOLARIDADE','I_FREQ_PROP','POP','PEA18M','T_FUNDIN_TODOS_MMEIO','AGUA_ESGOTO','RENOCUP','RDPC','PPOB','GINI','RAZDEP']"
   ]
  },
  {
   "cell_type": "code",
   "execution_count": 24,
   "id": "498f2da8",
   "metadata": {},
   "outputs": [],
   "source": [
    "for i in colunas_usar:\n",
    "    df[str(i)] = 0\n",
    "\n",
    "for i in range (31,62):\n",
    "    for j in range(len(df)):\n",
    "        if df.Subprefeitura[j] == df_socio_usar[\"NOME_REG\"][i]:\n",
    "            for c in colunas_usar:\n",
    "                df[str(c)][j] = df_socio_usar[str(c)][i]\n"
   ]
  },
  {
   "cell_type": "markdown",
   "id": "dfa0968f",
   "metadata": {},
   "source": [
    "<p> Assim, obtivemos o nosso dataframe que será utilizado no decorrer do projeto </p> "
   ]
  },
  {
   "cell_type": "code",
   "execution_count": 25,
   "id": "22631425",
   "metadata": {},
   "outputs": [
    {
     "data": {
      "text/html": [
       "<div>\n",
       "<style scoped>\n",
       "    .dataframe tbody tr th:only-of-type {\n",
       "        vertical-align: middle;\n",
       "    }\n",
       "\n",
       "    .dataframe tbody tr th {\n",
       "        vertical-align: top;\n",
       "    }\n",
       "\n",
       "    .dataframe thead th {\n",
       "        text-align: right;\n",
       "    }\n",
       "</style>\n",
       "<table border=\"1\" class=\"dataframe\">\n",
       "  <thead>\n",
       "    <tr style=\"text-align: right;\">\n",
       "      <th></th>\n",
       "      <th>Situação de rua</th>\n",
       "      <th>Sexo</th>\n",
       "      <th>Identifica com o sexo nasceu</th>\n",
       "      <th>Idade</th>\n",
       "      <th>Faixa de idade</th>\n",
       "      <th>Classificação de idade</th>\n",
       "      <th>Cor_Raça_Etnia</th>\n",
       "      <th>Parentes no CA</th>\n",
       "      <th>Tempo na situação</th>\n",
       "      <th>Latitude</th>\n",
       "      <th>...</th>\n",
       "      <th>I_FREQ_PROP</th>\n",
       "      <th>POP</th>\n",
       "      <th>PEA18M</th>\n",
       "      <th>T_FUNDIN_TODOS_MMEIO</th>\n",
       "      <th>AGUA_ESGOTO</th>\n",
       "      <th>RENOCUP</th>\n",
       "      <th>RDPC</th>\n",
       "      <th>PPOB</th>\n",
       "      <th>GINI</th>\n",
       "      <th>RAZDEP</th>\n",
       "    </tr>\n",
       "  </thead>\n",
       "  <tbody>\n",
       "    <tr>\n",
       "      <th>0</th>\n",
       "      <td>Rua</td>\n",
       "      <td>Feminino</td>\n",
       "      <td>Não respondeu</td>\n",
       "      <td>Não respondeu</td>\n",
       "      <td>Sem informação</td>\n",
       "      <td>Sem informação</td>\n",
       "      <td>Sem identificação</td>\n",
       "      <td>Não informado</td>\n",
       "      <td>NR/NS</td>\n",
       "      <td>-23.496278</td>\n",
       "      <td>...</td>\n",
       "      <td>0.735</td>\n",
       "      <td>372829</td>\n",
       "      <td>176578</td>\n",
       "      <td>6.53</td>\n",
       "      <td>0.46</td>\n",
       "      <td>1016.84</td>\n",
       "      <td>587.95</td>\n",
       "      <td>25.47</td>\n",
       "      <td>0.43</td>\n",
       "      <td>43.49</td>\n",
       "    </tr>\n",
       "    <tr>\n",
       "      <th>1</th>\n",
       "      <td>Acolhido</td>\n",
       "      <td>Masculino</td>\n",
       "      <td>Homem Cisgênero</td>\n",
       "      <td>38</td>\n",
       "      <td>31 a 49</td>\n",
       "      <td>Adulto</td>\n",
       "      <td>Parda</td>\n",
       "      <td>Sim</td>\n",
       "      <td>Mais de 10 anos</td>\n",
       "      <td>-23.522517</td>\n",
       "      <td>...</td>\n",
       "      <td>0.779</td>\n",
       "      <td>473872</td>\n",
       "      <td>248050</td>\n",
       "      <td>2.74</td>\n",
       "      <td>0.27</td>\n",
       "      <td>1595.76</td>\n",
       "      <td>1064.38</td>\n",
       "      <td>10.83</td>\n",
       "      <td>0.46</td>\n",
       "      <td>40.78</td>\n",
       "    </tr>\n",
       "    <tr>\n",
       "      <th>2</th>\n",
       "      <td>Rua</td>\n",
       "      <td>Feminino</td>\n",
       "      <td>Mulher Cisgênero</td>\n",
       "      <td>27</td>\n",
       "      <td>18 a 30</td>\n",
       "      <td>Juventude</td>\n",
       "      <td>Parda</td>\n",
       "      <td>Sim</td>\n",
       "      <td>Mais de 2 anos até 5 anos</td>\n",
       "      <td>-23.523293</td>\n",
       "      <td>...</td>\n",
       "      <td>0.799</td>\n",
       "      <td>421638</td>\n",
       "      <td>261564</td>\n",
       "      <td>0.99</td>\n",
       "      <td>0.21</td>\n",
       "      <td>3513.45</td>\n",
       "      <td>2894.76</td>\n",
       "      <td>4.32</td>\n",
       "      <td>0.58</td>\n",
       "      <td>32.88</td>\n",
       "    </tr>\n",
       "    <tr>\n",
       "      <th>3</th>\n",
       "      <td>Rua</td>\n",
       "      <td>Masculino</td>\n",
       "      <td>Homem Cisgênero</td>\n",
       "      <td>15</td>\n",
       "      <td>12 a 17</td>\n",
       "      <td>Adolescente</td>\n",
       "      <td>Branca</td>\n",
       "      <td>Sim</td>\n",
       "      <td>Mais de 5 anos até 10 anos</td>\n",
       "      <td>-23.743078</td>\n",
       "      <td>...</td>\n",
       "      <td>0.724</td>\n",
       "      <td>594216</td>\n",
       "      <td>300644</td>\n",
       "      <td>6.42</td>\n",
       "      <td>0.87</td>\n",
       "      <td>1293.36</td>\n",
       "      <td>824.23</td>\n",
       "      <td>20.19</td>\n",
       "      <td>0.52</td>\n",
       "      <td>41.50</td>\n",
       "    </tr>\n",
       "    <tr>\n",
       "      <th>4</th>\n",
       "      <td>Rua</td>\n",
       "      <td>Feminino</td>\n",
       "      <td>Mulher Cisgênero</td>\n",
       "      <td>Não respondeu</td>\n",
       "      <td>Sem informação</td>\n",
       "      <td>Sem informação</td>\n",
       "      <td>Sem identificação</td>\n",
       "      <td>Sim</td>\n",
       "      <td>NR/NS</td>\n",
       "      <td>-23.525142</td>\n",
       "      <td>...</td>\n",
       "      <td>0.815</td>\n",
       "      <td>338675</td>\n",
       "      <td>189013</td>\n",
       "      <td>1.16</td>\n",
       "      <td>0.05</td>\n",
       "      <td>3017.22</td>\n",
       "      <td>2262.48</td>\n",
       "      <td>5.23</td>\n",
       "      <td>0.56</td>\n",
       "      <td>40.28</td>\n",
       "    </tr>\n",
       "  </tbody>\n",
       "</table>\n",
       "<p>5 rows × 26 columns</p>\n",
       "</div>"
      ],
      "text/plain": [
       "  Situação de rua       Sexo Identifica com o sexo nasceu          Idade  \\\n",
       "0             Rua   Feminino                Não respondeu  Não respondeu   \n",
       "1        Acolhido  Masculino              Homem Cisgênero             38   \n",
       "2             Rua   Feminino             Mulher Cisgênero             27   \n",
       "3             Rua  Masculino              Homem Cisgênero             15   \n",
       "4             Rua   Feminino             Mulher Cisgênero  Não respondeu   \n",
       "\n",
       "   Faixa de idade Classificação de idade     Cor_Raça_Etnia Parentes no CA  \\\n",
       "0  Sem informação         Sem informação  Sem identificação  Não informado   \n",
       "1         31 a 49                 Adulto              Parda            Sim   \n",
       "2         18 a 30              Juventude              Parda            Sim   \n",
       "3         12 a 17            Adolescente             Branca            Sim   \n",
       "4  Sem informação         Sem informação  Sem identificação            Sim   \n",
       "\n",
       "            Tempo na situação   Latitude  ...  I_FREQ_PROP     POP  PEA18M  \\\n",
       "0                       NR/NS -23.496278  ...        0.735  372829  176578   \n",
       "1             Mais de 10 anos -23.522517  ...        0.779  473872  248050   \n",
       "2   Mais de 2 anos até 5 anos -23.523293  ...        0.799  421638  261564   \n",
       "3  Mais de 5 anos até 10 anos -23.743078  ...        0.724  594216  300644   \n",
       "4                       NR/NS -23.525142  ...        0.815  338675  189013   \n",
       "\n",
       "  T_FUNDIN_TODOS_MMEIO  AGUA_ESGOTO  RENOCUP     RDPC   PPOB  GINI  RAZDEP  \n",
       "0                 6.53         0.46  1016.84   587.95  25.47  0.43   43.49  \n",
       "1                 2.74         0.27  1595.76  1064.38  10.83  0.46   40.78  \n",
       "2                 0.99         0.21  3513.45  2894.76   4.32  0.58   32.88  \n",
       "3                 6.42         0.87  1293.36   824.23  20.19  0.52   41.50  \n",
       "4                 1.16         0.05  3017.22  2262.48   5.23  0.56   40.28  \n",
       "\n",
       "[5 rows x 26 columns]"
      ]
     },
     "execution_count": 25,
     "metadata": {},
     "output_type": "execute_result"
    }
   ],
   "source": [
    "df.head(5)"
   ]
  },
  {
   "cell_type": "code",
   "execution_count": 26,
   "id": "92048bae",
   "metadata": {},
   "outputs": [
    {
     "data": {
      "text/plain": [
       "Index(['Situação de rua', 'Sexo', 'Identifica com o sexo nasceu', 'Idade',\n",
       "       'Faixa de idade', 'Classificação de idade', 'Cor_Raça_Etnia',\n",
       "       'Parentes no CA', 'Tempo na situação', 'Latitude', 'Longitude', 'Data',\n",
       "       'Subprefeitura', 'Distrito', 'IDHM', 'I_ESCOLARIDADE', 'I_FREQ_PROP',\n",
       "       'POP', 'PEA18M', 'T_FUNDIN_TODOS_MMEIO', 'AGUA_ESGOTO', 'RENOCUP',\n",
       "       'RDPC', 'PPOB', 'GINI', 'RAZDEP'],\n",
       "      dtype='object')"
      ]
     },
     "execution_count": 26,
     "metadata": {},
     "output_type": "execute_result"
    }
   ],
   "source": [
    "df.columns"
   ]
  },
  {
   "cell_type": "markdown",
   "id": "0cf87e1b",
   "metadata": {},
   "source": [
    "<h4> Agora, vamos ao último tratamento da base de dados: Transformar os tipos das variávei no Python. </h4>"
   ]
  },
  {
   "cell_type": "code",
   "execution_count": 27,
   "id": "89704798",
   "metadata": {},
   "outputs": [
    {
     "data": {
      "text/plain": [
       "Situação de rua                         object\n",
       "Sexo                                    object\n",
       "Identifica com o sexo nasceu            object\n",
       "Idade                                   object\n",
       "Faixa de idade                          object\n",
       "Classificação de idade                  object\n",
       "Cor_Raça_Etnia                          object\n",
       "Parentes no CA                          object\n",
       "Tempo na situação                       object\n",
       "Latitude                               float64\n",
       "Longitude                              float64\n",
       "Data                            datetime64[ns]\n",
       "Subprefeitura                           object\n",
       "Distrito                                object\n",
       "IDHM                                   float64\n",
       "I_ESCOLARIDADE                         float64\n",
       "I_FREQ_PROP                            float64\n",
       "POP                                      int64\n",
       "PEA18M                                   int64\n",
       "T_FUNDIN_TODOS_MMEIO                   float64\n",
       "AGUA_ESGOTO                            float64\n",
       "RENOCUP                                float64\n",
       "RDPC                                   float64\n",
       "PPOB                                   float64\n",
       "GINI                                   float64\n",
       "RAZDEP                                 float64\n",
       "dtype: object"
      ]
     },
     "execution_count": 27,
     "metadata": {},
     "output_type": "execute_result"
    }
   ],
   "source": [
    "df.dtypes"
   ]
  },
  {
   "cell_type": "markdown",
   "id": "66cb6a5b",
   "metadata": {},
   "source": [
    "<p> As variáveis qualitativas utilizadas pelo grupo estão, no python, representadas no Python como variáveis 'object', sendo assim, necessário torná-las categóricas para um melhor desempemnho na análise exploratória. Por Outro lado, as variáveis quantitativas utilizadas já estão em correspondência com o modelo desejado </p> "
   ]
  },
  {
   "cell_type": "code",
   "execution_count": 30,
   "id": "6d319b4f",
   "metadata": {},
   "outputs": [],
   "source": [
    "df.Subprefeitura = df.Subprefeitura.replace(\"M'boi Mirim\", \"M'Boi Mirim\")"
   ]
  },
  {
   "cell_type": "code",
   "execution_count": 32,
   "id": "d31a3a67",
   "metadata": {},
   "outputs": [
    {
     "name": "stdout",
     "output_type": "stream",
     "text": [
      "Situação de rua                       category\n",
      "Sexo                                  category\n",
      "Identifica com o sexo nasceu          category\n",
      "Idade                                 category\n",
      "Faixa de idade                        category\n",
      "Classificação de idade                category\n",
      "Cor_Raça_Etnia                        category\n",
      "Parentes no CA                        category\n",
      "Tempo na situação                     category\n",
      "Latitude                               float64\n",
      "Longitude                              float64\n",
      "Data                            datetime64[ns]\n",
      "Subprefeitura                         category\n",
      "Distrito                              category\n",
      "IDHM                                   float64\n",
      "I_ESCOLARIDADE                         float64\n",
      "I_FREQ_PROP                            float64\n",
      "POP                                      int64\n",
      "PEA18M                                   int64\n",
      "T_FUNDIN_TODOS_MMEIO                   float64\n",
      "AGUA_ESGOTO                            float64\n",
      "RENOCUP                                float64\n",
      "RDPC                                   float64\n",
      "PPOB                                   float64\n",
      "GINI                                   float64\n",
      "RAZDEP                                 float64\n",
      "dtype: object\n"
     ]
    }
   ],
   "source": [
    "convert_dict = {'Situação de rua': 'category',\n",
    "                'Sexo': 'category',\n",
    "                'Identifica com o sexo nasceu': 'category',\n",
    "                'Idade': 'category',\n",
    "                'Faixa de idade': 'category',\n",
    "                'Classificação de idade': 'category',\n",
    "                'Cor_Raça_Etnia':'category',                          \n",
    "                'Parentes no CA': 'category',                       \n",
    "                'Tempo na situação': 'category',                                                                                          \n",
    "                'Latitude': float,                           \n",
    "                'Longitude': float,                             \n",
    "                'Data': 'datetime64[ns]',                      \n",
    "                'Subprefeitura': 'category',                          \n",
    "                'Distrito': 'category'}\n",
    "\n",
    "df = df.astype(convert_dict)\n",
    "print(df.dtypes)"
   ]
  },
  {
   "cell_type": "markdown",
   "id": "7860c5db",
   "metadata": {},
   "source": [
    "Por fim , para tratar das variáveis faixas de idade e classificação de idade, devemos declará-las como variáveis qualitativas ordinais."
   ]
  },
  {
   "cell_type": "code",
   "execution_count": 33,
   "id": "16aaa040",
   "metadata": {},
   "outputs": [],
   "source": [
    "ordem_faixa = ['Até 11', '12 a 17', '18 a 30', '31 a 49', '50 a 59', '60 a 69', '70 a 79', '80 a 89', '90 a 99', 'Sem informação']\n",
    "ordem_classificacao = ['Criança', 'Adolescente', 'Juventude', 'Adulto', 'Idoso', 'Sem classificação']\n",
    "\n",
    "\n",
    "df['Faixa de idade'] = pd.Categorical(df['Faixa de idade'], categories=ordem_faixa, ordered=True)\n",
    "df['Classificação de idade'] = pd.Categorical(df['Classificação de idade'], categories=ordem_classificacao, ordered=True)"
   ]
  },
  {
   "cell_type": "markdown",
   "id": "83175a04",
   "metadata": {},
   "source": [
    "## 2. Análise Exploratória"
   ]
  },
  {
   "cell_type": "markdown",
   "id": "55f63392",
   "metadata": {},
   "source": [
    "<p> Tendo em vista o Target selecionado pelo grupo, torna-se relevante explorar o comportamento das features que mais se destacam no que tange à indicadores desse perfil e, mais do que isso, entender o comportamento delas. Sendo assim, esse processo de descoberta será feito na Análise Exploratória. </p>"
   ]
  },
  {
   "cell_type": "markdown",
   "id": "541fec30",
   "metadata": {},
   "source": [
    "### 2.1 Análise Exploratória das Features Qualitativas"
   ]
  },
  {
   "cell_type": "markdown",
   "id": "7ff8bb9e",
   "metadata": {},
   "source": [
    "#### 2.1.1 Análise dos dados referentes à identificação de idade."
   ]
  },
  {
   "cell_type": "markdown",
   "id": "d4858990",
   "metadata": {},
   "source": [
    "<p> Iniciaremos a exploratória baseada nas variáveis relecionadas à faixa de idade, sendo assim, relevante a análise por meio de tabelas cruzadas, já que iremos avaliar a relação entre 2  variáveis qualitativas </p>"
   ]
  },
  {
   "cell_type": "code",
   "execution_count": 35,
   "id": "bf0a91d6",
   "metadata": {
    "scrolled": true
   },
   "outputs": [
    {
     "data": {
      "text/html": [
       "<div>\n",
       "<style scoped>\n",
       "    .dataframe tbody tr th:only-of-type {\n",
       "        vertical-align: middle;\n",
       "    }\n",
       "\n",
       "    .dataframe tbody tr th {\n",
       "        vertical-align: top;\n",
       "    }\n",
       "\n",
       "    .dataframe thead th {\n",
       "        text-align: right;\n",
       "    }\n",
       "</style>\n",
       "<table border=\"1\" class=\"dataframe\">\n",
       "  <thead>\n",
       "    <tr style=\"text-align: right;\">\n",
       "      <th>Faixa de idade</th>\n",
       "      <th>Até 11</th>\n",
       "      <th>12 a 17</th>\n",
       "      <th>18 a 30</th>\n",
       "      <th>31 a 49</th>\n",
       "      <th>50 a 59</th>\n",
       "      <th>60 a 69</th>\n",
       "      <th>70 a 79</th>\n",
       "      <th>80 a 89</th>\n",
       "      <th>90 a 99</th>\n",
       "      <th>Sem informação</th>\n",
       "      <th>All</th>\n",
       "    </tr>\n",
       "    <tr>\n",
       "      <th>Situação de rua</th>\n",
       "      <th></th>\n",
       "      <th></th>\n",
       "      <th></th>\n",
       "      <th></th>\n",
       "      <th></th>\n",
       "      <th></th>\n",
       "      <th></th>\n",
       "      <th></th>\n",
       "      <th></th>\n",
       "      <th></th>\n",
       "      <th></th>\n",
       "    </tr>\n",
       "  </thead>\n",
       "  <tbody>\n",
       "    <tr>\n",
       "      <th>Acolhido</th>\n",
       "      <td>92.0</td>\n",
       "      <td>34.219269</td>\n",
       "      <td>38.045076</td>\n",
       "      <td>44.133309</td>\n",
       "      <td>52.338947</td>\n",
       "      <td>68.839201</td>\n",
       "      <td>72.331155</td>\n",
       "      <td>80.612245</td>\n",
       "      <td>100.0</td>\n",
       "      <td>20.817996</td>\n",
       "      <td>39.792714</td>\n",
       "    </tr>\n",
       "    <tr>\n",
       "      <th>Rua</th>\n",
       "      <td>8.0</td>\n",
       "      <td>65.780731</td>\n",
       "      <td>61.954924</td>\n",
       "      <td>55.866691</td>\n",
       "      <td>47.661053</td>\n",
       "      <td>31.160799</td>\n",
       "      <td>27.668845</td>\n",
       "      <td>19.387755</td>\n",
       "      <td>0.0</td>\n",
       "      <td>79.182004</td>\n",
       "      <td>60.207286</td>\n",
       "    </tr>\n",
       "  </tbody>\n",
       "</table>\n",
       "</div>"
      ],
      "text/plain": [
       "Faixa de idade   Até 11    12 a 17    18 a 30    31 a 49    50 a 59  \\\n",
       "Situação de rua                                                       \n",
       "Acolhido           92.0  34.219269  38.045076  44.133309  52.338947   \n",
       "Rua                 8.0  65.780731  61.954924  55.866691  47.661053   \n",
       "\n",
       "Faixa de idade     60 a 69    70 a 79    80 a 89  90 a 99  Sem informação  \\\n",
       "Situação de rua                                                             \n",
       "Acolhido         68.839201  72.331155  80.612245    100.0       20.817996   \n",
       "Rua              31.160799  27.668845  19.387755      0.0       79.182004   \n",
       "\n",
       "Faixa de idade         All  \n",
       "Situação de rua             \n",
       "Acolhido         39.792714  \n",
       "Rua              60.207286  "
      ]
     },
     "execution_count": 35,
     "metadata": {},
     "output_type": "execute_result"
    }
   ],
   "source": [
    "#Porcentagem em relação às colunas \n",
    "pd.crosstab(df['Situação de rua'], df['Faixa de idade'], normalize='columns'  , margins=True )*100"
   ]
  },
  {
   "cell_type": "markdown",
   "id": "378f292a",
   "metadata": {},
   "source": [
    "Observações: Percebe-se neste caso que, para faixas de idades abaixo dos 11 e, para faixas de idades acima dos 60, a tendência grande é de pessoas em situações de acolhimento, enquanto, para faixas'intermediárias', há uma prevalência de pessoas em situação de rua."
   ]
  },
  {
   "cell_type": "markdown",
   "id": "c2f2aec0",
   "metadata": {},
   "source": [
    "<p> Continuando a análise para a perspectiva de Idade, vamos analisar as distribuições de idade individual para as idades de ambos os grupos: Rua e Acolhidos </p>"
   ]
  },
  {
   "cell_type": "code",
   "execution_count": 36,
   "id": "da5b722e",
   "metadata": {
    "scrolled": true
   },
   "outputs": [],
   "source": [
    "#Aqui, precisamos converter as Variáveis 'Idade' em Variáveis Inteiras, para a montagem do histograma.\n",
    "filtro_idade = df['Idade'] != 'Não respondeu'\n",
    "df_hist = df.loc[filtro_idade , : ]\n",
    "le = LabelEncoder()\n",
    "df_hist['Idade'] = le.fit_transform(df_hist['Idade'])"
   ]
  },
  {
   "cell_type": "code",
   "execution_count": 37,
   "id": "bab1f488",
   "metadata": {},
   "outputs": [],
   "source": [
    "#Estabelecendo Filtros para Printar 2 Histogramas : Idade de pessoas na rua e acolhidos \n",
    "\n",
    "filtro_rua = df_hist['Situação de rua'] == 'Rua'\n",
    "filtro_acolhidos = df_hist['Situação de rua'] == 'Acolhido'\n",
    "\n",
    "df_hist_rua = df_hist.loc[filtro_rua , :]\n",
    "df_hist_acolhidos = df_hist.loc[filtro_acolhidos , :]"
   ]
  },
  {
   "cell_type": "markdown",
   "id": "f1ad5f02",
   "metadata": {},
   "source": [
    "#### Analisando as medidas Resumo referente à idade"
   ]
  },
  {
   "cell_type": "code",
   "execution_count": 39,
   "id": "a3289c4b",
   "metadata": {},
   "outputs": [
    {
     "data": {
      "text/html": [
       "<div>\n",
       "<style scoped>\n",
       "    .dataframe tbody tr th:only-of-type {\n",
       "        vertical-align: middle;\n",
       "    }\n",
       "\n",
       "    .dataframe tbody tr th {\n",
       "        vertical-align: top;\n",
       "    }\n",
       "\n",
       "    .dataframe thead th {\n",
       "        text-align: right;\n",
       "    }\n",
       "</style>\n",
       "<table border=\"1\" class=\"dataframe\">\n",
       "  <thead>\n",
       "    <tr style=\"text-align: right;\">\n",
       "      <th></th>\n",
       "      <th>Idade</th>\n",
       "    </tr>\n",
       "  </thead>\n",
       "  <tbody>\n",
       "    <tr>\n",
       "      <th>count</th>\n",
       "      <td>11426.000000</td>\n",
       "    </tr>\n",
       "    <tr>\n",
       "      <th>mean</th>\n",
       "      <td>39.969456</td>\n",
       "    </tr>\n",
       "    <tr>\n",
       "      <th>std</th>\n",
       "      <td>12.310101</td>\n",
       "    </tr>\n",
       "    <tr>\n",
       "      <th>min</th>\n",
       "      <td>0.000000</td>\n",
       "    </tr>\n",
       "    <tr>\n",
       "      <th>25%</th>\n",
       "      <td>31.000000</td>\n",
       "    </tr>\n",
       "    <tr>\n",
       "      <th>50%</th>\n",
       "      <td>39.000000</td>\n",
       "    </tr>\n",
       "    <tr>\n",
       "      <th>75%</th>\n",
       "      <td>48.000000</td>\n",
       "    </tr>\n",
       "    <tr>\n",
       "      <th>max</th>\n",
       "      <td>86.000000</td>\n",
       "    </tr>\n",
       "  </tbody>\n",
       "</table>\n",
       "</div>"
      ],
      "text/plain": [
       "              Idade\n",
       "count  11426.000000\n",
       "mean      39.969456\n",
       "std       12.310101\n",
       "min        0.000000\n",
       "25%       31.000000\n",
       "50%       39.000000\n",
       "75%       48.000000\n",
       "max       86.000000"
      ]
     },
     "execution_count": 39,
     "metadata": {},
     "output_type": "execute_result"
    }
   ],
   "source": [
    "#Medidas Resumo - Dataframe De rua \n",
    "df_hist_rua['Idade'].describe().to_frame()"
   ]
  },
  {
   "cell_type": "code",
   "execution_count": 40,
   "id": "52873de2",
   "metadata": {
    "scrolled": true
   },
   "outputs": [
    {
     "data": {
      "text/html": [
       "<div>\n",
       "<style scoped>\n",
       "    .dataframe tbody tr th:only-of-type {\n",
       "        vertical-align: middle;\n",
       "    }\n",
       "\n",
       "    .dataframe tbody tr th {\n",
       "        vertical-align: top;\n",
       "    }\n",
       "\n",
       "    .dataframe thead th {\n",
       "        text-align: right;\n",
       "    }\n",
       "</style>\n",
       "<table border=\"1\" class=\"dataframe\">\n",
       "  <thead>\n",
       "    <tr style=\"text-align: right;\">\n",
       "      <th></th>\n",
       "      <th>Idade</th>\n",
       "    </tr>\n",
       "  </thead>\n",
       "  <tbody>\n",
       "    <tr>\n",
       "      <th>count</th>\n",
       "      <td>10634.000000</td>\n",
       "    </tr>\n",
       "    <tr>\n",
       "      <th>mean</th>\n",
       "      <td>44.003291</td>\n",
       "    </tr>\n",
       "    <tr>\n",
       "      <th>std</th>\n",
       "      <td>15.518824</td>\n",
       "    </tr>\n",
       "    <tr>\n",
       "      <th>min</th>\n",
       "      <td>0.000000</td>\n",
       "    </tr>\n",
       "    <tr>\n",
       "      <th>25%</th>\n",
       "      <td>34.000000</td>\n",
       "    </tr>\n",
       "    <tr>\n",
       "      <th>50%</th>\n",
       "      <td>44.000000</td>\n",
       "    </tr>\n",
       "    <tr>\n",
       "      <th>75%</th>\n",
       "      <td>55.000000</td>\n",
       "    </tr>\n",
       "    <tr>\n",
       "      <th>max</th>\n",
       "      <td>90.000000</td>\n",
       "    </tr>\n",
       "  </tbody>\n",
       "</table>\n",
       "</div>"
      ],
      "text/plain": [
       "              Idade\n",
       "count  10634.000000\n",
       "mean      44.003291\n",
       "std       15.518824\n",
       "min        0.000000\n",
       "25%       34.000000\n",
       "50%       44.000000\n",
       "75%       55.000000\n",
       "max       90.000000"
      ]
     },
     "execution_count": 40,
     "metadata": {},
     "output_type": "execute_result"
    }
   ],
   "source": [
    "#Medidas Resumo - Dataframe de Acolhidos \n",
    "df_hist_acolhidos['Idade'].describe().to_frame()"
   ]
  },
  {
   "cell_type": "markdown",
   "id": "44731713",
   "metadata": {},
   "source": [
    "#### Analisando a Distribuição das Idades pelo Gráfico de Histograma"
   ]
  },
  {
   "cell_type": "code",
   "execution_count": 49,
   "id": "b5becca9",
   "metadata": {},
   "outputs": [
    {
     "data": {
      "image/png": "[encoded data removed]",
      "text/plain": [
       "<Figure size 1500x500 with 2 Axes>"
      ]
     },
     "metadata": {},
     "output_type": "display_data"
    }
   ],
   "source": [
    "faixas = np.arange(0 , 100 , 10)\n",
    "\n",
    "plt.figure(figsize=(15,5))\n",
    "\n",
    "plt.subplot(121)\n",
    "\n",
    "plt.hist(df_hist_rua['Idade'], edgecolor='white' , bins=len(faixas), color='darkred' , density = True)\n",
    "plt.xlabel('Faixas de idade', fontsize=10)\n",
    "plt.ylabel('Quantidade de pessoas', fontsize=10)\n",
    "plt.xticks(fontsize=7)\n",
    "plt.yticks(fontsize=7)\n",
    "plt.ylim( 0 , 0.035)\n",
    "plt.xlim( 0 , 86)\n",
    "plt.title('Idades das pessoas na rua', fontsize=10)\n",
    "\n",
    "plt.subplot(122)\n",
    "\n",
    "plt.hist(df_hist_acolhidos['Idade'], edgecolor='white' , bins=len(faixas)  , color='darkblue' , density=True )\n",
    "plt.xlabel('Faixas de idade', fontsize=10)\n",
    "plt.ylabel('Quantidade de pessoas', fontsize=10)\n",
    "plt.xticks(fontsize=7)\n",
    "plt.yticks(fontsize=7)\n",
    "plt.ylim( 0 , 0.035)\n",
    "plt.xlim( 0 , 86)\n",
    "plt.title('Idade das pessoas acolhidas', fontsize=10)\n",
    "plt.show()"
   ]
  },
  {
   "cell_type": "markdown",
   "id": "7ddf42e8",
   "metadata": {},
   "source": [
    "A análise do Histograma, valida a hipótese construída acerca da concentração de idade para diferentes faixas, e isso já permite mensurar que essa variável apresenta aspectos relevantes para a análise."
   ]
  },
  {
   "cell_type": "markdown",
   "id": "e08db9a9",
   "metadata": {},
   "source": [
    "<p> Encerrando a análise acerca das variáveis que tangem à idade, vamos para a análise da variávei 'Classificação de idade' </p>"
   ]
  },
  {
   "cell_type": "markdown",
   "id": "02f6dc46",
   "metadata": {},
   "source": [
    "### Estabelecendo as  tabelas de Crosstab"
   ]
  },
  {
   "cell_type": "code",
   "execution_count": 50,
   "id": "1fad42a0",
   "metadata": {},
   "outputs": [
    {
     "data": {
      "text/html": [
       "<div>\n",
       "<style scoped>\n",
       "    .dataframe tbody tr th:only-of-type {\n",
       "        vertical-align: middle;\n",
       "    }\n",
       "\n",
       "    .dataframe tbody tr th {\n",
       "        vertical-align: top;\n",
       "    }\n",
       "\n",
       "    .dataframe thead th {\n",
       "        text-align: right;\n",
       "    }\n",
       "</style>\n",
       "<table border=\"1\" class=\"dataframe\">\n",
       "  <thead>\n",
       "    <tr style=\"text-align: right;\">\n",
       "      <th>Classificação de idade</th>\n",
       "      <th>Criança</th>\n",
       "      <th>Adolescente</th>\n",
       "      <th>Juventude</th>\n",
       "      <th>Adulto</th>\n",
       "      <th>Idoso</th>\n",
       "      <th>All</th>\n",
       "    </tr>\n",
       "    <tr>\n",
       "      <th>Situação de rua</th>\n",
       "      <th></th>\n",
       "      <th></th>\n",
       "      <th></th>\n",
       "      <th></th>\n",
       "      <th></th>\n",
       "      <th></th>\n",
       "    </tr>\n",
       "  </thead>\n",
       "  <tbody>\n",
       "    <tr>\n",
       "      <th>Acolhido</th>\n",
       "      <td>92.0</td>\n",
       "      <td>34.219269</td>\n",
       "      <td>38.045076</td>\n",
       "      <td>46.231121</td>\n",
       "      <td>69.98876</td>\n",
       "      <td>48.204896</td>\n",
       "    </tr>\n",
       "    <tr>\n",
       "      <th>Rua</th>\n",
       "      <td>8.0</td>\n",
       "      <td>65.780731</td>\n",
       "      <td>61.954924</td>\n",
       "      <td>53.768879</td>\n",
       "      <td>30.01124</td>\n",
       "      <td>51.795104</td>\n",
       "    </tr>\n",
       "  </tbody>\n",
       "</table>\n",
       "</div>"
      ],
      "text/plain": [
       "Classificação de idade  Criança  Adolescente  Juventude     Adulto     Idoso  \\\n",
       "Situação de rua                                                                \n",
       "Acolhido                   92.0    34.219269  38.045076  46.231121  69.98876   \n",
       "Rua                         8.0    65.780731  61.954924  53.768879  30.01124   \n",
       "\n",
       "Classificação de idade        All  \n",
       "Situação de rua                    \n",
       "Acolhido                48.204896  \n",
       "Rua                     51.795104  "
      ]
     },
     "execution_count": 50,
     "metadata": {},
     "output_type": "execute_result"
    }
   ],
   "source": [
    "pd.crosstab(df['Situação de rua'], df['Classificação de idade'], normalize='columns'  , margins=True) * 100"
   ]
  },
  {
   "cell_type": "markdown",
   "id": "97daa2ed",
   "metadata": {},
   "source": [
    "Aqui, já percebe-se as mesmas impressões de anteriormente, o que mostra como a hipótese foi validada dentro da análise em questão."
   ]
  },
  {
   "cell_type": "markdown",
   "id": "bd6b57e0",
   "metadata": {},
   "source": [
    "<h4> 2.1.2 Realizando uma Análise pautada nas Formas de Identificação </h4>"
   ]
  },
  {
   "cell_type": "markdown",
   "id": "4b23da0b",
   "metadata": {},
   "source": [
    "<h5> 1. Identificação pela Raça </h5>"
   ]
  },
  {
   "cell_type": "code",
   "execution_count": 53,
   "id": "82011c84",
   "metadata": {},
   "outputs": [
    {
     "data": {
      "text/html": [
       "<div>\n",
       "<style scoped>\n",
       "    .dataframe tbody tr th:only-of-type {\n",
       "        vertical-align: middle;\n",
       "    }\n",
       "\n",
       "    .dataframe tbody tr th {\n",
       "        vertical-align: top;\n",
       "    }\n",
       "\n",
       "    .dataframe thead th {\n",
       "        text-align: right;\n",
       "    }\n",
       "</style>\n",
       "<table border=\"1\" class=\"dataframe\">\n",
       "  <thead>\n",
       "    <tr style=\"text-align: right;\">\n",
       "      <th>Cor_Raça_Etnia</th>\n",
       "      <th>Amarela</th>\n",
       "      <th>Branca</th>\n",
       "      <th>Indígena</th>\n",
       "      <th>Não respondeu</th>\n",
       "      <th>Parda</th>\n",
       "      <th>Preta</th>\n",
       "      <th>Sem identificação</th>\n",
       "      <th>All</th>\n",
       "    </tr>\n",
       "    <tr>\n",
       "      <th>Situação de rua</th>\n",
       "      <th></th>\n",
       "      <th></th>\n",
       "      <th></th>\n",
       "      <th></th>\n",
       "      <th></th>\n",
       "      <th></th>\n",
       "      <th></th>\n",
       "      <th></th>\n",
       "    </tr>\n",
       "  </thead>\n",
       "  <tbody>\n",
       "    <tr>\n",
       "      <th>Acolhido</th>\n",
       "      <td>0.543011</td>\n",
       "      <td>0.528226</td>\n",
       "      <td>0.575269</td>\n",
       "      <td>0.235294</td>\n",
       "      <td>0.466335</td>\n",
       "      <td>0.426484</td>\n",
       "      <td>0.207893</td>\n",
       "      <td>0.397927</td>\n",
       "    </tr>\n",
       "    <tr>\n",
       "      <th>Rua</th>\n",
       "      <td>0.456989</td>\n",
       "      <td>0.471774</td>\n",
       "      <td>0.424731</td>\n",
       "      <td>0.764706</td>\n",
       "      <td>0.533665</td>\n",
       "      <td>0.573516</td>\n",
       "      <td>0.792107</td>\n",
       "      <td>0.602073</td>\n",
       "    </tr>\n",
       "  </tbody>\n",
       "</table>\n",
       "</div>"
      ],
      "text/plain": [
       "Cor_Raça_Etnia    Amarela    Branca  Indígena  Não respondeu     Parda  \\\n",
       "Situação de rua                                                          \n",
       "Acolhido         0.543011  0.528226  0.575269       0.235294  0.466335   \n",
       "Rua              0.456989  0.471774  0.424731       0.764706  0.533665   \n",
       "\n",
       "Cor_Raça_Etnia      Preta  Sem identificação       All  \n",
       "Situação de rua                                         \n",
       "Acolhido         0.426484           0.207893  0.397927  \n",
       "Rua              0.573516           0.792107  0.602073  "
      ]
     },
     "execution_count": 53,
     "metadata": {},
     "output_type": "execute_result"
    }
   ],
   "source": [
    "tabela_cruzada = pd.crosstab(df['Situação de rua'], df['Cor_Raça_Etnia'] , normalize ='columns' , margins = True) #montagem da tabela cruzada\n",
    "tabela_cruzada"
   ]
  },
  {
   "cell_type": "markdown",
   "id": "58733da4",
   "metadata": {},
   "source": [
    "<p> Análise da proporação para cada raça entre pessoas em situação de rua e acolhidos </p> "
   ]
  },
  {
   "cell_type": "code",
   "execution_count": 55,
   "id": "4330f0d4",
   "metadata": {},
   "outputs": [
    {
     "data": {
      "text/html": [
       "<div>\n",
       "<style scoped>\n",
       "    .dataframe tbody tr th:only-of-type {\n",
       "        vertical-align: middle;\n",
       "    }\n",
       "\n",
       "    .dataframe tbody tr th {\n",
       "        vertical-align: top;\n",
       "    }\n",
       "\n",
       "    .dataframe thead th {\n",
       "        text-align: right;\n",
       "    }\n",
       "</style>\n",
       "<table border=\"1\" class=\"dataframe\">\n",
       "  <thead>\n",
       "    <tr style=\"text-align: right;\">\n",
       "      <th>Cor_Raça_Etnia</th>\n",
       "      <th>Amarela</th>\n",
       "      <th>Branca</th>\n",
       "      <th>Indígena</th>\n",
       "      <th>Não respondeu</th>\n",
       "      <th>Parda</th>\n",
       "      <th>Preta</th>\n",
       "      <th>Sem identificação</th>\n",
       "    </tr>\n",
       "    <tr>\n",
       "      <th>Situação de rua</th>\n",
       "      <th></th>\n",
       "      <th></th>\n",
       "      <th></th>\n",
       "      <th></th>\n",
       "      <th></th>\n",
       "      <th></th>\n",
       "      <th></th>\n",
       "    </tr>\n",
       "  </thead>\n",
       "  <tbody>\n",
       "    <tr>\n",
       "      <th>Acolhido</th>\n",
       "      <td>0.007972</td>\n",
       "      <td>0.248145</td>\n",
       "      <td>0.008445</td>\n",
       "      <td>0.007261</td>\n",
       "      <td>0.399605</td>\n",
       "      <td>0.184294</td>\n",
       "      <td>0.144278</td>\n",
       "    </tr>\n",
       "    <tr>\n",
       "      <th>Rua</th>\n",
       "      <td>0.004434</td>\n",
       "      <td>0.146479</td>\n",
       "      <td>0.004121</td>\n",
       "      <td>0.015597</td>\n",
       "      <td>0.302243</td>\n",
       "      <td>0.163798</td>\n",
       "      <td>0.363328</td>\n",
       "    </tr>\n",
       "    <tr>\n",
       "      <th>All</th>\n",
       "      <td>0.005842</td>\n",
       "      <td>0.186935</td>\n",
       "      <td>0.005842</td>\n",
       "      <td>0.012280</td>\n",
       "      <td>0.340986</td>\n",
       "      <td>0.171954</td>\n",
       "      <td>0.276162</td>\n",
       "    </tr>\n",
       "  </tbody>\n",
       "</table>\n",
       "</div>"
      ],
      "text/plain": [
       "Cor_Raça_Etnia    Amarela    Branca  Indígena  Não respondeu     Parda  \\\n",
       "Situação de rua                                                          \n",
       "Acolhido         0.007972  0.248145  0.008445       0.007261  0.399605   \n",
       "Rua              0.004434  0.146479  0.004121       0.015597  0.302243   \n",
       "All              0.005842  0.186935  0.005842       0.012280  0.340986   \n",
       "\n",
       "Cor_Raça_Etnia      Preta  Sem identificação  \n",
       "Situação de rua                               \n",
       "Acolhido         0.184294           0.144278  \n",
       "Rua              0.163798           0.363328  \n",
       "All              0.171954           0.276162  "
      ]
     },
     "execution_count": 55,
     "metadata": {},
     "output_type": "execute_result"
    }
   ],
   "source": [
    "#Vamos declarar novamente a tabela cruzada, mas com afinalidade de utilizá-la para a contrução do gráfico de Pizza\n",
    "tabela_cruzada = pd.crosstab(df['Situação de rua'], df['Cor_Raça_Etnia'] , normalize ='index' , margins=True)\n",
    "tabela_cruzada"
   ]
  },
  {
   "cell_type": "code",
   "execution_count": 61,
   "id": "c58f3003",
   "metadata": {
    "scrolled": true
   },
   "outputs": [
    {
     "data": {
      "text/plain": [
       "Text(0.5, 1.0, 'Distribuição de raças das pessoas em situação de rua')"
      ]
     },
     "execution_count": 61,
     "metadata": {},
     "output_type": "execute_result"
    },
    {
     "data": {
      "image/png": "[encoded data removed]",
      "text/plain": [
       "<Figure size 1500x1500 with 2 Axes>"
      ]
     },
     "metadata": {},
     "output_type": "display_data"
    }
   ],
   "source": [
    "plt.figure(figsize=(15, 15))\n",
    "plt.subplot(121)\n",
    "\n",
    "#definindo as variaveis que serão utilizadas \n",
    "valores_acolhidos = tabela_cruzada.loc['Acolhido'].values\n",
    "rotulos = tabela_cruzada.columns.tolist()\n",
    "\n",
    "# Criando um gráfico de pizza\n",
    "cores = ['#1f77b4', '#ff7f0e', '#2ca02c', '#d62728', '#9467bd', '#8c564b', '#e377c2']\n",
    "plt.pie(valores_acolhidos, labels=rotulos, autopct='%1.1f%%', colors=cores, startangle=90)\n",
    "\n",
    "# Adicionando um título\n",
    "plt.title(f'Distribuição de raças das pessoas em situação de acolhimento')\n",
    "\n",
    "# Criando um gráfico de pizza que relaciona a quantidade de moradores em situação de Acolhimento e raças\n",
    "plt.subplot(122)\n",
    "\n",
    "#definindo as variaveis que serão utilizadas \n",
    "valores_rua = tabela_cruzada.loc['Rua'].values\n",
    "\n",
    "# Criando um gráfico de pizza\n",
    "plt.pie(valores_rua, labels=rotulos, autopct='%1.1f%%', colors=cores, startangle=90)\n",
    "\n",
    "# Adicionando um título\n",
    "plt.title(f'Distribuição de raças das pessoas em situação de rua')"
   ]
  },
  {
   "cell_type": "markdown",
   "id": "ab0d9c51",
   "metadata": {},
   "source": [
    "<p> Nesse caso, observa-se que existem cores que estão em maior prevalência para o acolhidos, como, por exemplo, 'Pardos e Brancos'. Porém, ao observar-se "
   ]
  },
  {
   "cell_type": "markdown",
   "id": "4df024cd",
   "metadata": {},
   "source": [
    "#### 2.2.2 Análise Pautada no Gênero "
   ]
  },
  {
   "cell_type": "code",
   "execution_count": null,
   "id": "3771a776",
   "metadata": {},
   "outputs": [],
   "source": [
    "df_sexo = df.loc[(df.Sexo != 'Sem identificação')]\n",
    "sexo_x_situacao = dict(pd.crosstab(df_sexo['Situação de rua'],df_sexo.Sexo, normalize='columns'))\n",
    "\n",
    "\n",
    "acolhidos = []\n",
    "rua = []\n",
    "\n",
    "for i in sexo_x_situacao:\n",
    "    acolhidos.append(round(sexo_x_situacao[i][0],2)*100)\n",
    "    rua.append(round(sexo_x_situacao[i][1],2)*100)\n",
    "\n",
    "\n",
    "subprefeituras = list(sexo_x_situacao)\n",
    "\n",
    "situacao = {\n",
    "    'Situação de Rua': rua,\n",
    "    'Acolhidos': acolhidos\n",
    "}\n",
    "\n",
    "x = np.arange(len(subprefeituras))  # the label locations\n",
    "width = 0.25 # the width of the bars\n",
    "multiplier = 0\n",
    "\n",
    "fig, ax = plt.subplots(1,1,figsize=(10,5))\n",
    "c = 'red'\n",
    "for attribute, measurement in situacao.items():\n",
    "    offset = width * multiplier\n",
    "    rects = ax.bar(x + offset, measurement, width, label=attribute, color=c)\n",
    "    ax.bar_label(rects, padding=10, fontsize=\"10\")\n",
    "    multiplier += 1\n",
    "    c = 'green'\n",
    "\n",
    "\n",
    "# Add some text for labels, title and custom x-axis tick labels, etc.\n",
    "ax.set_title('Rua e Acolhidos por Sexo em SP', fontsize=\"10\")\n",
    "ax.set_xticks(x + width - 0.1255, subprefeituras, fontsize=\"10\", rotation=90)\n",
    "ax.legend(loc='upper left', fontsize=\"10\")\n",
    "ax.set_ylim(0, 100)\n",
    "plt.ylabel('% de pessoas', fontsize='10')\n",
    "\n",
    "plt.show()"
   ]
  },
  {
   "cell_type": "markdown",
   "id": "06c91bea",
   "metadata": {},
   "source": [
    "### 2.3. Análise Pautada na Geolocalização "
   ]
  },
  {
   "cell_type": "code",
   "execution_count": null,
   "id": "37a040b4",
   "metadata": {},
   "outputs": [],
   "source": [
    "tabela_cruzada_loc = pd.crosstab(df['Situação de rua'], df[\"Distrito\"]) #montagem da tabela cruzada\n",
    "tabela_cruzada_loc"
   ]
  },
  {
   "cell_type": "code",
   "execution_count": null,
   "id": "e1fb1da5",
   "metadata": {},
   "outputs": [],
   "source": [
    "#Criando lista de latitude e longitude dos distritos\n",
    "lista_nomes_dist = []\n",
    "lat = []\n",
    "lon = []\n",
    "\n",
    "for i in range(len(df.Distrito)):\n",
    "    if df.Distrito[i] not in lista_nomes_dist:\n",
    "        lista_nomes_dist.append(df.Distrito[i])\n",
    "        lat.append(df.Latitude[i])\n",
    "        lon.append(df.Longitude[i])"
   ]
  },
  {
   "cell_type": "code",
   "execution_count": null,
   "id": "fc950ce9",
   "metadata": {},
   "outputs": [],
   "source": [
    "qnt_rua = list(tabela_cruzada_loc.loc['Rua'].values) #fazendo uma lista por meio da tabela cruzada da quantidade de pessoas em situação de rua"
   ]
  },
  {
   "cell_type": "markdown",
   "id": "d9755ae9",
   "metadata": {},
   "source": [
    "##### 2.3.1 Definindo uma função para colorir o marcador que ficará no mapa em função da quantidade de pessoas em situação de rua"
   ]
  },
  {
   "cell_type": "code",
   "execution_count": null,
   "id": "9b758ebf",
   "metadata": {},
   "outputs": [],
   "source": [
    "map = folium.Map(location=[-23.550520, -46.633308], zoom_start=6, tiles='OpenStreetMap') # criando um mapa centrado em SP"
   ]
  },
  {
   "cell_type": "code",
   "execution_count": null,
   "id": "74df0008",
   "metadata": {},
   "outputs": [],
   "source": [
    "def colour_marker(qnt_rua):\n",
    "    if qnt_rua < 200:  #Menos de 200 pessoas em situação de rua\n",
    "        return 'green'\n",
    "    elif 200 <= qnt_rua < 500: #Menos de 500 pessoas em situação de rua e mais de 200\n",
    "        return 'orange'\n",
    "    else:\n",
    "        return 'red'#Mais de 500 pessoas em situação de rua"
   ]
  },
  {
   "cell_type": "markdown",
   "id": "6e5522ff",
   "metadata": {},
   "source": [
    "##### 2.3.2 Definindo marcadores para as pessoas em situação de Rua"
   ]
  },
  {
   "cell_type": "code",
   "execution_count": null,
   "id": "f2e61d1d",
   "metadata": {},
   "outputs": [],
   "source": [
    "f = folium.FeatureGroup(name= \"Rua\" ) \n",
    "\n",
    "for lt, ln, qnt in zip(lat, lon, qnt_rua):\n",
    "    f.add_child(folium.CircleMarker(location=[lt, ln], radius=6, popup=str(qnt)+\" m\",\n",
    "    fill_color=colour_marker(qnt), color = 'grey', fill=True, fill_opacity=0.7))"
   ]
  },
  {
   "cell_type": "code",
   "execution_count": null,
   "id": "afde88d5",
   "metadata": {},
   "outputs": [],
   "source": [
    "map.add_child(f) \n",
    "map.add_child(folium.LayerControl())"
   ]
  },
  {
   "cell_type": "markdown",
   "id": "cef7fcf9",
   "metadata": {},
   "source": [
    "#### 2.4. Análise Pautada nas Subprefeituras e nas suas Particularidades"
   ]
  },
  {
   "cell_type": "code",
   "execution_count": null,
   "id": "81b9232e",
   "metadata": {},
   "outputs": [],
   "source": [
    "#print(pd.Series(df.Subprefeitura.value_counts()))\n",
    "o = 0\n",
    "lista_subprefeituras = []\n",
    "for i  in df.Subprefeitura.values:\n",
    "    if i not in lista_subprefeituras: \n",
    "        lista_subprefeituras.append(i)"
   ]
  },
  {
   "cell_type": "code",
   "execution_count": null,
   "id": "fe82cca2",
   "metadata": {},
   "outputs": [],
   "source": [
    "sub_x_situacao = pd.crosstab(df['Situação de rua'],df.Subprefeitura, normalize='columns')\n",
    "acolhidos = []\n",
    "rua = []\n",
    "\n",
    "for i in sub_x_situacao:\n",
    "    acolhidos.append(round(sub_x_situacao[i][0],2)*100)\n",
    "    rua.append(round(sub_x_situacao[i][1],2)*100)\n"
   ]
  },
  {
   "cell_type": "code",
   "execution_count": null,
   "id": "7210626d",
   "metadata": {
    "scrolled": true
   },
   "outputs": [],
   "source": [
    "subprefeituras = list(sub_x_situacao)\n",
    "\n",
    "situacao = {\n",
    "    'Situação de Rua': rua,\n",
    "    'Acolhidos': acolhidos\n",
    "}\n",
    "\n",
    "x = np.arange(len(subprefeituras))  # the label locations\n",
    "width = 0.25 # the width of the bars\n",
    "multiplier = 0\n",
    "\n",
    "fig, ax = plt.subplots(1,1,figsize=(140,60))\n",
    "c = 'red'\n",
    "for attribute, measurement in situacao.items():\n",
    "    offset = width * multiplier\n",
    "    rects = ax.bar(x + offset, measurement, width, label=attribute, color=c)\n",
    "    ax.bar_label(rects, padding=10, fontsize=\"40\")\n",
    "    multiplier += 1\n",
    "    c = 'green'\n",
    "\n",
    "\n",
    "# Add some text for labels, title and custom x-axis tick labels, etc.\n",
    "ax.set_title('Rua e Acolhidos por Subprefeituras SP (% por subprefeitura)', fontsize=\"100\")\n",
    "ax.set_xticks(x + width - 0.1255, subprefeituras, fontsize=\"60\", rotation=90)\n",
    "ax.legend(loc='upper left', fontsize=\"50\")\n",
    "ax.set_ylim(0, 100)\n",
    "\n",
    "plt.show()"
   ]
  },
  {
   "cell_type": "markdown",
   "id": "3d470054",
   "metadata": {},
   "source": [
    "### 2.5Análise Baseada no tempo na situação "
   ]
  },
  {
   "cell_type": "code",
   "execution_count": null,
   "id": "ccd310f7",
   "metadata": {},
   "outputs": [],
   "source": [
    "df_rua = df.loc[filtro_rua , :]\n",
    "df_ac = df.loc[filtro_acolhidos , :]\n"
   ]
  },
  {
   "cell_type": "code",
   "execution_count": null,
   "id": "3079ce1b",
   "metadata": {},
   "outputs": [],
   "source": [
    "df['Tempo na situação'].value_counts(normalize = True ).to_frame()"
   ]
  },
  {
   "cell_type": "code",
   "execution_count": null,
   "id": "64d0b6f7",
   "metadata": {},
   "outputs": [],
   "source": [
    "df_rua['Tempo na situação'].value_counts(normalize=True).to_frame()"
   ]
  },
  {
   "cell_type": "code",
   "execution_count": null,
   "id": "22e172e9",
   "metadata": {},
   "outputs": [],
   "source": [
    "df_ac['Tempo na situação'].value_counts(normalize=True).to_frame()"
   ]
  },
  {
   "cell_type": "markdown",
   "id": "04c10b82",
   "metadata": {},
   "source": [
    "### Construção da Visualização do Comparativo "
   ]
  },
  {
   "cell_type": "code",
   "execution_count": null,
   "id": "a34e84b0",
   "metadata": {},
   "outputs": [],
   "source": [
    "tempo_x_situacao = dict(pd.crosstab(df['Situação de rua'],df['Tempo na situação'], normalize='columns'))\n",
    "\n",
    "\n",
    "acolhidos = []\n",
    "rua = []\n",
    "\n",
    "for i in tempo_x_situacao:\n",
    "    acolhidos.append(round(tempo_x_situacao[i][0],2)*100)\n",
    "    rua.append(round(tempo_x_situacao[i][1],2)*100)\n",
    "\n",
    "\n",
    "subprefeituras = list(tempo_x_situacao)\n",
    "\n",
    "situacao = {\n",
    "    'Situação de Rua': rua,\n",
    "    'Acolhidos': acolhidos\n",
    "}\n",
    "\n",
    "x = np.arange(len(subprefeituras))  # the label locations\n",
    "width = 0.25 # the width of the bars\n",
    "multiplier = 0\n",
    "\n",
    "fig, ax = plt.subplots(1,1,figsize=(15,5))\n",
    "c = 'darkred'\n",
    "for attribute, measurement in situacao.items():\n",
    "    offset = width * multiplier\n",
    "    rects = ax.bar(x + offset, measurement, width, label=attribute, color=c , edgecolor='white')\n",
    "    ax.bar_label(rects, padding=10, fontsize=\"15\")\n",
    "    multiplier += 1\n",
    "    c = 'darkgreen'\n",
    "\n",
    "\n",
    "# Add some text for labels, title and custom x-axis tick labels, etc.\n",
    "ax.set_title('Rua e Acolhidos por Tempo na situação de Rua', fontsize=\"15\")\n",
    "ax.set_xticks(x + width - 0.1255, subprefeituras, fontsize=\"15\", rotation=90)\n",
    "ax.legend(loc='upper left', fontsize=\"15\")\n",
    "ax.set_ylim(0, 100)\n",
    "plt.ylabel('% de pessoas', fontsize='15')\n",
    "\n",
    "plt.show()"
   ]
  },
  {
   "cell_type": "markdown",
   "id": "3d41b774",
   "metadata": {},
   "source": [
    "### 2.6. Análise Baseada em Parentes no Centro de Acolhimento "
   ]
  },
  {
   "cell_type": "markdown",
   "id": "22b5b69f",
   "metadata": {},
   "source": [
    "##### Identificação das variáveis na series "
   ]
  },
  {
   "cell_type": "code",
   "execution_count": null,
   "id": "831b57e6",
   "metadata": {},
   "outputs": [],
   "source": [
    "filtro_CA = df['Parentes no CA'] != 'Não informado'\n",
    "df_CA = df.loc[filtro_CA , :]\n",
    "df_CA['Parentes no CA'].value_counts(normalize=True).to_frame()"
   ]
  },
  {
   "cell_type": "code",
   "execution_count": null,
   "id": "4963edfe",
   "metadata": {},
   "outputs": [],
   "source": [
    "df_ac = df_ac.loc[filtro_CA , :]\n",
    "df_ac['Parentes no CA'].value_counts(normalize = True).to_frame()"
   ]
  },
  {
   "cell_type": "code",
   "execution_count": null,
   "id": "c2b3177f",
   "metadata": {},
   "outputs": [],
   "source": [
    "df_rua = df_rua.loc[filtro_CA , :]\n",
    "df_rua['Parentes no CA'].value_counts(normalize = True).to_frame()"
   ]
  },
  {
   "cell_type": "code",
   "execution_count": null,
   "id": "d64956d7",
   "metadata": {},
   "outputs": [],
   "source": [
    "parentes_x_situacao = dict(pd.crosstab(df_CA['Situação de rua'],df['Parentes no CA'], normalize='columns'))\n",
    "\n",
    "\n",
    "acolhidos = []\n",
    "rua = []\n",
    "\n",
    "for i in parentes_x_situacao:\n",
    "    acolhidos.append(round(parentes_x_situacao[i][0],2)*100)\n",
    "    rua.append(round(parentes_x_situacao[i][1],2)*100)\n",
    "\n",
    "\n",
    "subprefeituras = list(parentes_x_situacao)\n",
    "\n",
    "situacao = {\n",
    "    'Situação de Rua': rua,\n",
    "    'Acolhidos': acolhidos\n",
    "}\n",
    "\n",
    "x = np.arange(len(subprefeituras))  # the label locations\n",
    "width = 0.25 # the width of the bars\n",
    "multiplier = 0\n",
    "\n",
    "fig, ax = plt.subplots(1,1,figsize=(15,5))\n",
    "c = 'lightblue'\n",
    "for attribute, measurement in situacao.items():\n",
    "    offset = width * multiplier\n",
    "    rects = ax.bar(x + offset, measurement, width, label=attribute, color=c , edgecolor='white')\n",
    "    ax.bar_label(rects, padding=10, fontsize=\"15\")\n",
    "    multiplier += 1\n",
    "    c = 'pink'\n",
    "\n",
    "\n",
    "# Add some text for labels, title and custom x-axis tick labels, etc.\n",
    "ax.set_title('Rua e Acolhidos por Tempo na situação de Rua', fontsize=\"15\")\n",
    "ax.set_xticks(x + width - 0.1255, subprefeituras, fontsize=\"15\", rotation=90)\n",
    "ax.legend(loc='upper left', fontsize=\"15\")\n",
    "ax.set_ylim(0, 100)\n",
    "plt.ylabel('% de pessoas', fontsize='15')\n",
    "\n",
    "plt.show()"
   ]
  },
  {
   "cell_type": "markdown",
   "id": "c60c228a",
   "metadata": {},
   "source": [
    "### 3 Análises Quantitativas"
   ]
  },
  {
   "cell_type": "code",
   "execution_count": null,
   "id": "422bea3f",
   "metadata": {},
   "outputs": [],
   "source": [
    "df_quants = df.iloc[: , 20: ]\n",
    "df_quants.columns"
   ]
  },
  {
   "cell_type": "markdown",
   "id": "9b81d460",
   "metadata": {},
   "source": [
    "#### Separando em Acolhidos e em Situação de Rua"
   ]
  },
  {
   "cell_type": "code",
   "execution_count": null,
   "id": "7a2239c8",
   "metadata": {},
   "outputs": [],
   "source": [
    "filtro_rua = df['Situação de rua'] == 'Rua'\n",
    "filtro_acolhidos = df['Situação de rua'] == 'Acolhido'"
   ]
  },
  {
   "cell_type": "code",
   "execution_count": null,
   "id": "8494376f",
   "metadata": {},
   "outputs": [],
   "source": [
    "df_quants_rua = df.loc[filtro_rua , : ]\n",
    "df_quants_acolhidos = df.loc[filtro_acolhidos , :]"
   ]
  },
  {
   "cell_type": "markdown",
   "id": "9631a534",
   "metadata": {},
   "source": [
    "##### Analise da PEA18M"
   ]
  },
  {
   "cell_type": "code",
   "execution_count": null,
   "id": "6f1a04a4",
   "metadata": {},
   "outputs": [],
   "source": [
    "# analisando em situação de rua\n",
    "\n",
    "df_quants_rua.PEA18M.describe()"
   ]
  },
  {
   "cell_type": "code",
   "execution_count": null,
   "id": "04ad8149",
   "metadata": {},
   "outputs": [],
   "source": [
    "#analisando acolhidos\n",
    "df_quants_acolhidos.PEA18M.describe()"
   ]
  },
  {
   "cell_type": "markdown",
   "id": "da64b964",
   "metadata": {},
   "source": [
    "##### Gráfico que mostra a quantidade de pessoas econômicamente ativas dentro dos distritos com relatos em pessoas em situação de rua e ativos"
   ]
  },
  {
   "cell_type": "code",
   "execution_count": null,
   "id": "773b8436",
   "metadata": {},
   "outputs": [],
   "source": [
    "plt.figure(figsize=(10,5))\n",
    "\n",
    "plt.subplot(121)\n",
    "\n",
    "plt.hist(df_quants_rua.PEA18M, edgecolor='white' , bins = 10, color='darkred' , density = True)\n",
    "plt.xlabel('Quantidade de pessoas', fontsize=10)\n",
    "plt.ylabel('Densidade', fontsize=10)\n",
    "plt.xticks(fontsize=7)\n",
    "plt.yticks(fontsize=7)\n",
    "plt.title('Pop economicamente ativa acima de 18 rua', fontsize=10)\n",
    "\n",
    "plt.subplot(122)\n",
    "\n",
    "plt.hist(df_quants_acolhidos.PEA18M, edgecolor='white' , bins = 10, color='darkblue' , density=True )\n",
    "plt.xlabel('Quantidade de pessoas', fontsize=10)\n",
    "plt.ylabel('Densidade', fontsize=10)\n",
    "plt.xticks(fontsize=7)\n",
    "plt.yticks(fontsize=7)\n",
    "\n",
    "plt.title('Pop economicamente ativa acima de 18 acolhidos', fontsize=10)\n",
    "plt.show()"
   ]
  },
  {
   "cell_type": "code",
   "execution_count": null,
   "id": "148a74c3",
   "metadata": {},
   "outputs": [],
   "source": [
    "plt.figure(figsize = (15,5))\n",
    "\n",
    "plt.subplot(131)\n",
    "\n",
    "plt.boxplot(df_quants_rua.PEA18M,  \n",
    "            boxprops=dict(color='blue'),\n",
    "            medianprops=dict(color='gray'),\n",
    "            capprops=dict(color='black'),\n",
    "            whiskerprops=dict(color='gray'),\n",
    "            flierprops=dict(color='yellow', markeredgecolor='springgreen')\n",
    "            )\n",
    "plt.title('Pop economicamente ativa acima de 18 rua')\n",
    "plt.ylabel('Qnt')\n",
    "\n",
    "plt.subplot(132)\n",
    "\n",
    "plt.boxplot(df_quants_acolhidos.PEA18M,  \n",
    "            boxprops=dict(color='blue'),\n",
    "            medianprops=dict(color='gray'),\n",
    "            capprops=dict(color='black'),\n",
    "            whiskerprops=dict(color='gray'),\n",
    "            flierprops=dict(color='yellow', markeredgecolor='springgreen')\n",
    "            )\n",
    "plt.title('Pop economicamente ativa acima de 18 acolhido')\n",
    "plt.ylabel('Qnt')"
   ]
  },
  {
   "cell_type": "markdown",
   "id": "47a09ebd",
   "metadata": {},
   "source": [
    "##### Analise de T_FUNDIN_TODOS_MMEIO (Moradias vuneráveis a pobreza)"
   ]
  },
  {
   "cell_type": "code",
   "execution_count": null,
   "id": "e8e07fb2",
   "metadata": {},
   "outputs": [],
   "source": [
    "df_quants_rua.T_FUNDIN_TODOS_MMEIO.describe()"
   ]
  },
  {
   "cell_type": "code",
   "execution_count": null,
   "id": "ebc8e62e",
   "metadata": {},
   "outputs": [],
   "source": [
    "df_quants_acolhidos.T_FUNDIN_TODOS_MMEIO.describe()"
   ]
  },
  {
   "cell_type": "code",
   "execution_count": null,
   "id": "6966bf92",
   "metadata": {},
   "outputs": [],
   "source": [
    "plt.figure(figsize=(10,5))\n",
    "faixas = np.arange(0,14,1)\n",
    "plt.subplot(121)\n",
    "\n",
    "plt.hist(df_quants_rua.T_FUNDIN_TODOS_MMEIO, bins=faixas, edgecolor='white', color='darkred' , density = True)\n",
    "plt.xlabel('Porcentagem', fontsize=10)\n",
    "plt.ylabel('Densidade', fontsize=10)\n",
    "plt.xticks(fontsize=7)\n",
    "plt.yticks(fontsize=7)\n",
    "plt.title('%Moradias vuneráveis a pobreza rua', fontsize=10)\n",
    "plt.ylim(0,0.6)\n",
    "plt.xlim( 0 , 9)\n",
    "plt.subplot(122)\n",
    "\n",
    "plt.hist(df_quants_acolhidos.T_FUNDIN_TODOS_MMEIO, bins=faixas, edgecolor='white', color='darkblue' , density=True )\n",
    "plt.xlabel('Porcentagem', fontsize=10)\n",
    "plt.ylabel('Densidade', fontsize=10)\n",
    "plt.xticks(fontsize=7)\n",
    "plt.yticks(fontsize=7)\n",
    "plt.ylim(0,0.6)\n",
    "plt.xlim( 0 , 9)\n",
    "plt.title('%Moradias vuneráveis a pobreza acolhidos', fontsize=10)\n",
    "plt.show()"
   ]
  },
  {
   "cell_type": "code",
   "execution_count": null,
   "id": "55d76220",
   "metadata": {},
   "outputs": [],
   "source": [
    "plt.figure(figsize = (15,5))\n",
    "\n",
    "plt.subplot(131)\n",
    "\n",
    "plt.boxplot(df_quants_rua.T_FUNDIN_TODOS_MMEIO,  \n",
    "            boxprops=dict(color='blue'),\n",
    "            medianprops=dict(color='gray'),\n",
    "            capprops=dict(color='black'),\n",
    "            whiskerprops=dict(color='gray'),\n",
    "            flierprops=dict(color='yellow', markeredgecolor='springgreen')\n",
    "            )\n",
    "plt.title('%Moradias vuneráveis a pobreza rua')\n",
    "plt.ylabel('Porcentagem')\n",
    "\n",
    "plt.subplot(132)\n",
    "\n",
    "plt.boxplot(df_quants_acolhidos.T_FUNDIN_TODOS_MMEIO,  \n",
    "            boxprops=dict(color='blue'),\n",
    "            medianprops=dict(color='gray'),\n",
    "            capprops=dict(color='black'),\n",
    "            whiskerprops=dict(color='gray'),\n",
    "            flierprops=dict(color='yellow', markeredgecolor='springgreen')\n",
    "            )\n",
    "plt.title('%Moradias vuneráveis a pobreza acolhidos')\n",
    "plt.ylabel('Porcentagem')"
   ]
  },
  {
   "cell_type": "markdown",
   "id": "a1f841d0",
   "metadata": {},
   "source": [
    "##### Analise de AGUA_ESGOTO"
   ]
  },
  {
   "cell_type": "code",
   "execution_count": null,
   "id": "79f4e9a9",
   "metadata": {},
   "outputs": [],
   "source": [
    "df_quants_rua.AGUA_ESGOTO.describe()"
   ]
  },
  {
   "cell_type": "code",
   "execution_count": null,
   "id": "e3206e1d",
   "metadata": {},
   "outputs": [],
   "source": [
    "df_quants_acolhidos.AGUA_ESGOTO.describe()"
   ]
  },
  {
   "cell_type": "code",
   "execution_count": null,
   "id": "b2197c12",
   "metadata": {},
   "outputs": [],
   "source": [
    "plt.figure(figsize=(10,5))\n",
    "\n",
    "plt.subplot(121)\n",
    "\n",
    "plt.hist(df_quants_rua.AGUA_ESGOTO, edgecolor='white', color='darkred' , bins = 40, density = True)\n",
    "plt.xlabel('Porcentagem', fontsize=10)\n",
    "plt.ylabel('Densidade', fontsize=10)\n",
    "plt.xticks(fontsize=7)\n",
    "plt.yticks(fontsize=7)\n",
    "plt.title('% Saneamento', fontsize=10)\n",
    "plt.xlim(0, 1)\n",
    "\n",
    "plt.subplot(122)\n",
    "\n",
    "plt.hist(df_quants_acolhidos.AGUA_ESGOTO, edgecolor='white', color='darkblue' , bins = 40, density=True )\n",
    "plt.xlabel('Porcentagem', fontsize=10)\n",
    "plt.ylabel('Densidade', fontsize=10)\n",
    "plt.xticks(fontsize=7)\n",
    "plt.yticks(fontsize=7)\n",
    "plt.xlim(0, 1)\n",
    "\n",
    "plt.title('%Saneamento', fontsize=10)\n",
    "plt.show()"
   ]
  },
  {
   "cell_type": "code",
   "execution_count": null,
   "id": "6f60a50a",
   "metadata": {},
   "outputs": [],
   "source": [
    "plt.figure(figsize = (15,5))\n",
    "\n",
    "plt.subplot(131)\n",
    "\n",
    "plt.boxplot(df_quants_rua.AGUA_ESGOTO,  \n",
    "            boxprops=dict(color='blue'),\n",
    "            medianprops=dict(color='gray'),\n",
    "            capprops=dict(color='black'),\n",
    "            whiskerprops=dict(color='gray'),\n",
    "            flierprops=dict(color='yellow', markeredgecolor='springgreen')\n",
    "            )\n",
    "plt.title('%Saneamento rua')\n",
    "plt.ylabel('Porcentagem')\n",
    "\n",
    "plt.subplot(132)\n",
    "\n",
    "plt.boxplot(df_quants_acolhidos.AGUA_ESGOTO,  \n",
    "            boxprops=dict(color='blue'),\n",
    "            medianprops=dict(color='gray'),\n",
    "            capprops=dict(color='black'),\n",
    "            whiskerprops=dict(color='gray'),\n",
    "            flierprops=dict(color='yellow', markeredgecolor='springgreen')\n",
    "            )\n",
    "plt.title('%Saneamento acolhidos')\n",
    "plt.ylabel('Porcentagem')"
   ]
  },
  {
   "cell_type": "markdown",
   "id": "f4b7500e",
   "metadata": {},
   "source": [
    "##### Analise de RENOCUP (Rendimento médio da população)"
   ]
  },
  {
   "cell_type": "code",
   "execution_count": null,
   "id": "18e3349f",
   "metadata": {},
   "outputs": [],
   "source": [
    "df_quants_rua.RENOCUP.describe()"
   ]
  },
  {
   "cell_type": "code",
   "execution_count": null,
   "id": "a718ce05",
   "metadata": {},
   "outputs": [],
   "source": [
    "df_quants_acolhidos.RENOCUP.describe()"
   ]
  },
  {
   "cell_type": "code",
   "execution_count": null,
   "id": "e231f1f6",
   "metadata": {},
   "outputs": [],
   "source": [
    "plt.figure(figsize=(10,5))\n",
    "\n",
    "plt.subplot(121)\n",
    "\n",
    "plt.hist(df_quants_rua.RENOCUP, edgecolor='white', color='darkred' , density = True)\n",
    "plt.xlabel('QNT', fontsize=10)\n",
    "plt.ylabel('Densidade', fontsize=10)\n",
    "plt.xticks(fontsize=7)\n",
    "plt.yticks(fontsize=7)\n",
    "plt.title('Renocup Ruas ', fontsize=10)\n",
    "plt.xlim(0 , 7000)\n",
    "plt.ylim( 0 , 8e-4)\n",
    "plt.subplot(122)\n",
    "\n",
    "plt.hist(df_quants_acolhidos.RENOCUP, edgecolor='white', color='darkblue' , density=True )\n",
    "plt.xlabel('QNT', fontsize=10)\n",
    "plt.ylabel('Densidade', fontsize=10)\n",
    "plt.xticks(fontsize=7)\n",
    "plt.yticks(fontsize=7)\n",
    "plt.xlim(0 , 7000)\n",
    "plt.ylim( 0 , 8e-4)\n",
    "plt.title('Renocup Acolhidos', fontsize=10)\n",
    "plt.show()"
   ]
  },
  {
   "cell_type": "code",
   "execution_count": null,
   "id": "79bdca39",
   "metadata": {},
   "outputs": [],
   "source": [
    "plt.figure(figsize = (15,5))\n",
    "\n",
    "plt.subplot(131)\n",
    "\n",
    "plt.boxplot(df_quants_rua.RENOCUP, \n",
    "            boxprops=dict(color='blue'),\n",
    "            medianprops=dict(color='gray'),\n",
    "            capprops=dict(color='black'),\n",
    "            whiskerprops=dict(color='gray'),\n",
    "            flierprops=dict(color='yellow', markeredgecolor='springgreen')\n",
    "            )\n",
    "plt.title('Renocup')\n",
    "plt.ylabel('Qnt')\n",
    "\n",
    "plt.subplot(132)\n",
    "\n",
    "plt.boxplot(df_quants_acolhidos.RENOCUP,  \n",
    "            boxprops=dict(color='blue'),\n",
    "            medianprops=dict(color='gray'),\n",
    "            capprops=dict(color='black'),\n",
    "            whiskerprops=dict(color='gray'),\n",
    "            flierprops=dict(color='yellow', markeredgecolor='springgreen')\n",
    "            )\n",
    "plt.title('Renocup')\n",
    "plt.ylabel('QNT')"
   ]
  },
  {
   "cell_type": "markdown",
   "id": "f4c7760b",
   "metadata": {},
   "source": [
    "##### Análise IDH"
   ]
  },
  {
   "cell_type": "code",
   "execution_count": null,
   "id": "e0c9f64d",
   "metadata": {},
   "outputs": [],
   "source": [
    "faixas = np.arange(0 , 1 , 0.05)\n",
    "plt.figure(figsize=(10,5))\n",
    "plt.subplot(121)\n",
    "\n",
    "plt.hist(df_quants_rua.IDHM, edgecolor='white' , bins = faixas ,color='orange' , density = True )\n",
    "plt.xlabel('Índice de Desenvolvimento Humano (IDH)', fontsize=10)\n",
    "plt.ylabel('Densidade (%)', fontsize=10)\n",
    "plt.xticks(fontsize=7)\n",
    "plt.xlim( 0 , 1)\n",
    "plt.ylim( 0 , 15)\n",
    "plt.yticks(fontsize=7)\n",
    "plt.title('IDHM RUA ', fontsize=10)\n",
    "\n",
    "plt.subplot(122)\n",
    "\n",
    "plt.hist(df_quants_acolhidos.IDHM, edgecolor='white' , bins = faixas ,  color='skyblue' , density = True)\n",
    "plt.xlabel('Índice de Desenvolvimento Humano (IDH)', fontsize=10)\n",
    "plt.ylabel('Densidade (%)', fontsize=10)\n",
    "plt.ylim( 0 , 15)\n",
    "plt.xlim( 0 , 1)\n",
    "plt.xticks(fontsize=7)\n",
    "plt.yticks(fontsize=7)\n",
    "\n",
    "plt.title('IDHM ACOLHIDOS', fontsize=10)\n",
    "plt.show()"
   ]
  },
  {
   "cell_type": "markdown",
   "id": "f2ab17f5",
   "metadata": {},
   "source": [
    "### Conclusão Acerca desse Target "
   ]
  },
  {
   "cell_type": "markdown",
   "id": "d37ff427",
   "metadata": {},
   "source": [
    "<p> Aqui, percebe-se que: Para Valores de IDH maiores que 0.8%, há uma tendência maior de números de acolhimento. Porém, para valores menores que 0.8%, registrados nessa base de dados, há uma tensdência ligeiramente maior de maior presença de moradores de rua em relação aos acolhimentos. Assim, a anáise do IDH pode ter uma relevância na análise. </p>"
   ]
  },
  {
   "cell_type": "markdown",
   "id": "0d87fbe4",
   "metadata": {},
   "source": [
    "### Análise dos Índices de Escolaridade ( I_ESCOLARIDADE) "
   ]
  },
  {
   "cell_type": "markdown",
   "id": "bc3fad8c",
   "metadata": {},
   "source": [
    "#### Frequência desse Índice para cada um dos DataFrames"
   ]
  },
  {
   "cell_type": "code",
   "execution_count": null,
   "id": "b9c68d7a",
   "metadata": {},
   "outputs": [],
   "source": [
    "# Frequência para os municípios com registros de moradores de rua\n",
    "df_quants_rua.I_ESCOLARIDADE.value_counts( normalize = True ).to_frame()"
   ]
  },
  {
   "cell_type": "code",
   "execution_count": null,
   "id": "c63023bc",
   "metadata": {},
   "outputs": [],
   "source": [
    "# Frequência para os municípios com registros de moradores acolhidos\n",
    "df_quants_acolhidos.I_ESCOLARIDADE.value_counts( normalize = True ).to_frame()"
   ]
  },
  {
   "cell_type": "code",
   "execution_count": null,
   "id": "b305f599",
   "metadata": {},
   "outputs": [],
   "source": [
    "df_quants_rua.I_ESCOLARIDADE.describe().to_frame()"
   ]
  },
  {
   "cell_type": "code",
   "execution_count": null,
   "id": "e62282f9",
   "metadata": {},
   "outputs": [],
   "source": [
    "df_quants_acolhidos.I_ESCOLARIDADE.describe().to_frame()"
   ]
  },
  {
   "cell_type": "code",
   "execution_count": null,
   "id": "0d02a70f",
   "metadata": {},
   "outputs": [],
   "source": [
    "plt.figure(figsize=(10,5))\n",
    "\n",
    "faixas = np.arange( 0 , 1 , 0.1)\n",
    "\n",
    "plt.subplot(121)\n",
    "\n",
    "plt.hist(df_quants_rua.I_ESCOLARIDADE, edgecolor='black' ,  color='darkblue' , bins = faixas , density = True )\n",
    "plt.xlabel('Índice de Escolaridade (%)', fontsize=10)\n",
    "plt.ylabel('Densidade', fontsize=10)\n",
    "plt.xticks(fontsize=7)\n",
    "plt.yticks(fontsize=7)\n",
    "plt.title('Escolaridade  das Subprefeituras de rua', fontsize=10)\n",
    "plt.xlim( 0 , 1)\n",
    "plt.ylim( 0 , 10 )\n",
    "plt.subplot(122)\n",
    "\n",
    "plt.hist(df_quants_acolhidos.I_ESCOLARIDADE, edgecolor='black' ,  color='darkred' , bins = faixas ,  density = True )\n",
    "plt.xlabel('Índice de Escolaridade', fontsize=10)\n",
    "plt.ylabel('Densidade ', fontsize=10)\n",
    "plt.xticks(fontsize=7)\n",
    "plt.yticks(fontsize=7)\n",
    "plt.xlim( 0 , 1)\n",
    "plt.ylim( 0 , 10 )\n",
    "plt.title('Escolaridade  das Subprefeituras de Acolhimento', fontsize=10)\n",
    "plt.show()"
   ]
  },
  {
   "cell_type": "markdown",
   "id": "14567206",
   "metadata": {},
   "source": [
    "### Conclusões "
   ]
  },
  {
   "cell_type": "markdown",
   "id": "80ecc328",
   "metadata": {},
   "source": [
    "<p> Para Índices de Escolaridade Superiores a 0.8%, temos que há uma tendência maior para índices de acolhimento. Porém, para índices menores que 0.8%, há uma maior tendência dessas pessoas estarem em situação de rua. </p>"
   ]
  },
  {
   "cell_type": "markdown",
   "id": "b70ba194",
   "metadata": {},
   "source": [
    "#### Índice de Frequência Populacional (I_FREQ_PROP)"
   ]
  },
  {
   "cell_type": "markdown",
   "id": "2a564b66",
   "metadata": {},
   "source": [
    "###### Frequência de valores em cada dataframe"
   ]
  },
  {
   "cell_type": "code",
   "execution_count": null,
   "id": "8fd83b07",
   "metadata": {},
   "outputs": [],
   "source": [
    "df_quants_rua.I_FREQ_PROP.value_counts( normalize = True ).to_frame()"
   ]
  },
  {
   "cell_type": "code",
   "execution_count": null,
   "id": "30b4a821",
   "metadata": {},
   "outputs": [],
   "source": [
    "df_quants_acolhidos.I_FREQ_PROP.value_counts( normalize = True ).to_frame()"
   ]
  },
  {
   "cell_type": "markdown",
   "id": "a95e6bcc",
   "metadata": {},
   "source": [
    "##### Medidas  - Resumo para cada Dataframe"
   ]
  },
  {
   "cell_type": "code",
   "execution_count": null,
   "id": "61ce916e",
   "metadata": {},
   "outputs": [],
   "source": [
    "df_quants_acolhidos.I_FREQ_PROP.describe().to_frame()"
   ]
  },
  {
   "cell_type": "code",
   "execution_count": null,
   "id": "7318b9dd",
   "metadata": {},
   "outputs": [],
   "source": [
    "df_quants_rua.I_FREQ_PROP.describe().to_frame()"
   ]
  },
  {
   "cell_type": "code",
   "execution_count": null,
   "id": "394f937d",
   "metadata": {},
   "outputs": [],
   "source": [
    "plt.figure(figsize=(10,5))\n",
    "\n",
    "plt.subplot(121)\n",
    "\n",
    "plt.hist(df_quants_rua.I_FREQ_PROP, edgecolor='black' , bins = faixas ,   color='darkblue' , density = True )\n",
    "plt.xlabel('Faixas de idade', fontsize=10)\n",
    "plt.ylabel('Quantidade de pessoas', fontsize=10)\n",
    "plt.xticks(fontsize=7)\n",
    "plt.yticks(fontsize=7)\n",
    "plt.xlim(0 , 1 )\n",
    "plt.ylim( 0 , 7)\n",
    "plt.title('FREQ POP das SUBPREFEITURAS', fontsize=10)\n",
    "\n",
    "plt.subplot(122)\n",
    "\n",
    "plt.hist(df_quants_acolhidos.I_FREQ_PROP, edgecolor='black' , bins = faixas ,   color='darkred' , density = True)\n",
    "plt.xlabel('Faixas de idade', fontsize=10)\n",
    "plt.ylabel('Quantidade de pessoas', fontsize=10)\n",
    "plt.xticks(fontsize=7)\n",
    "plt.yticks(fontsize=7)\n",
    "plt.xlim(0 , 1 )\n",
    "plt.ylim( 0 , 7)\n",
    "plt.title('FREQ POP das SUBPREFEITURAS', fontsize=10)\n",
    "plt.show()"
   ]
  },
  {
   "cell_type": "markdown",
   "id": "ebe49594",
   "metadata": {},
   "source": [
    "### Conclusões "
   ]
  },
  {
   "cell_type": "markdown",
   "id": "c6d8808c",
   "metadata": {},
   "source": [
    "<p> Para valores desse Índice menores que 0.8, percebe-se uma presença maior de Acolhidos. Porém, para Valores inferiores a 0.8, há uma presença maior de pessoas em situação de rua. </p>"
   ]
  },
  {
   "cell_type": "markdown",
   "id": "289b2110",
   "metadata": {},
   "source": [
    "##### POPULAÇÂO TOTAL QUE RESIDE EM MUNICÌPIOS PARTICULARES PERMANENTES (POP)"
   ]
  },
  {
   "cell_type": "code",
   "execution_count": null,
   "id": "94d6e8d9",
   "metadata": {},
   "outputs": [],
   "source": [
    "df_quants_rua.POP.value_counts( normalize = True ).to_frame()"
   ]
  },
  {
   "cell_type": "code",
   "execution_count": null,
   "id": "419c58d0",
   "metadata": {},
   "outputs": [],
   "source": [
    "df_quants_acolhidos.POP.value_counts( normalize = True ).to_frame()"
   ]
  },
  {
   "cell_type": "code",
   "execution_count": null,
   "id": "83f608a5",
   "metadata": {},
   "outputs": [],
   "source": [
    "df_quants_rua.POP.describe().to_frame()"
   ]
  },
  {
   "cell_type": "code",
   "execution_count": null,
   "id": "89537072",
   "metadata": {},
   "outputs": [],
   "source": [
    "df_quants_acolhidos.POP.describe().to_frame()"
   ]
  },
  {
   "cell_type": "code",
   "execution_count": null,
   "id": "a7d34ea0",
   "metadata": {},
   "outputs": [],
   "source": [
    "\n",
    "plt.figure(figsize=(10,5))\n",
    "\n",
    "plt.subplot(121)\n",
    "\n",
    "plt.hist(df_quants_rua.POP, edgecolor='black' , bins = 10 ,   color='darkblue' , density = True )\n",
    "plt.xlabel('População que reside em Domicílios Particulares', fontsize=10)\n",
    "plt.ylabel('Densidade', fontsize=10)\n",
    "plt.xticks(fontsize=7)\n",
    "plt.yticks(fontsize=7)\n",
    "plt.ylim( 0 , 0.00001)\n",
    "plt.xlim( 0 , 600000)\n",
    "plt.title('FREQ POP das RUAS', fontsize=10)\n",
    "\n",
    "plt.subplot(122)\n",
    "\n",
    "plt.hist(df_quants_acolhidos.POP, edgecolor='black' ,bins = 10 ,   color='darkred' , density = True)\n",
    "plt.xlabel('População que reside em Domicílios Particulares', fontsize=10)\n",
    "plt.ylabel('Densidade', fontsize=10)\n",
    "plt.xticks(fontsize=7)\n",
    "plt.yticks(fontsize=7)\n",
    "plt.ylim( 0 , 0.00001)\n",
    "plt.xlim( 0 , 600000)\n",
    "plt.title('FREQ POP Acolhidos', fontsize=10)\n",
    "plt.show()"
   ]
  },
  {
   "cell_type": "markdown",
   "id": "d60d410e",
   "metadata": {},
   "source": [
    "#### Conclusões "
   ]
  },
  {
   "cell_type": "markdown",
   "id": "cd368006",
   "metadata": {},
   "source": [
    "<p> Para A Faixa de valores próximos a 40 mil pessoas, há uma tendência maior de número de pessoas em situação de rua. Porém, para valores superiores a essa faixa, temos uma clara tendência de adesão à acolhimento"
   ]
  },
  {
   "cell_type": "markdown",
   "id": "f843063f",
   "metadata": {},
   "source": [
    "#### Análise da Renda Per Capita (RDPC)"
   ]
  },
  {
   "cell_type": "code",
   "execution_count": null,
   "id": "739bbc48",
   "metadata": {},
   "outputs": [],
   "source": [
    "df_quants_rua['RDPC'].value_counts(normalize=True).to_frame()"
   ]
  },
  {
   "cell_type": "code",
   "execution_count": null,
   "id": "6ccfb81a",
   "metadata": {},
   "outputs": [],
   "source": [
    "df_quants_rua['RDPC'].value_counts(normalize=True).to_frame()"
   ]
  },
  {
   "cell_type": "code",
   "execution_count": null,
   "id": "ebdcb8b8",
   "metadata": {},
   "outputs": [],
   "source": [
    "df_quants_rua['RDPC'].describe().to_frame()"
   ]
  },
  {
   "cell_type": "code",
   "execution_count": null,
   "id": "0227731c",
   "metadata": {},
   "outputs": [],
   "source": [
    "df_quants_acolhidos['RDPC'].describe().to_frame()"
   ]
  },
  {
   "cell_type": "code",
   "execution_count": null,
   "id": "c224351c",
   "metadata": {},
   "outputs": [],
   "source": [
    "plt.figure(figsize=(10,5))\n",
    "faixas=np.arange(0, 6500, 400)\n",
    "\n",
    "plt.subplot(121)\n",
    "\n",
    "plt.hist(df_quants_rua['RDPC'], edgecolor='white' , bins=faixas , color='darkred' , density=True )\n",
    "plt.xlabel('Renda per Capita', fontsize=10)\n",
    "plt.ylabel('Densidade', fontsize=10)\n",
    "plt.xticks(fontsize=7)\n",
    "plt.yticks(fontsize=7)\n",
    "plt.xlim( 0 , 6000)\n",
    "plt.ylim(0, 0.0012)\n",
    "plt.title('Renda per capita dos registros de rua', fontsize=12)\n",
    "\n",
    "plt.subplot(122)\n",
    "\n",
    "plt.hist(df_quants_acolhidos['RDPC'], edgecolor='white' , bins=faixas , color='darkBLUE' , density=True)\n",
    "plt.xlabel('Renda per Capita', fontsize=10)\n",
    "plt.ylabel('Quantidade de pessoas acolhidas', fontsize=10)\n",
    "plt.xticks(fontsize=7)\n",
    "plt.yticks(fontsize=7)\n",
    "plt.xlim( 0 , 6000)\n",
    "plt.ylim(0, 0.0012)\n",
    "plt.title('Renda per capita dos registros de acolhimentos', fontsize=12)\n",
    "\n",
    "plt.show()"
   ]
  },
  {
   "cell_type": "markdown",
   "id": "9154d085",
   "metadata": {},
   "source": [
    "#### Conclusões"
   ]
  },
  {
   "cell_type": "markdown",
   "id": "7e3a748a",
   "metadata": {},
   "source": [
    "<p> Para valores da Faixa maiores que 3000 , há uma maior tendência de registros de pessoas em situação de rua. Porém, para valores abaixo dessa faixa, há uma tendência maior de porcentagens de Acolhimento."
   ]
  },
  {
   "cell_type": "markdown",
   "id": "257ac736",
   "metadata": {},
   "source": [
    "#### Análise do PPOB - Proporção de vuneráveis à pobreza"
   ]
  },
  {
   "cell_type": "code",
   "execution_count": null,
   "id": "3829abd7",
   "metadata": {},
   "outputs": [],
   "source": [
    "df_quants_rua['PPOB'].value_counts(normalize = True ).to_frame()"
   ]
  },
  {
   "cell_type": "code",
   "execution_count": null,
   "id": "6bfbf6f8",
   "metadata": {},
   "outputs": [],
   "source": [
    "df_quants_acolhidos['PPOB'].value_counts(normalize = True ).to_frame()"
   ]
  },
  {
   "cell_type": "code",
   "execution_count": null,
   "id": "b9d677a2",
   "metadata": {},
   "outputs": [],
   "source": [
    "df_quants_rua['PPOB'].describe().to_frame()"
   ]
  },
  {
   "cell_type": "code",
   "execution_count": null,
   "id": "1a9dda0a",
   "metadata": {},
   "outputs": [],
   "source": [
    "df_quants_acolhidos['PPOB'].describe().to_frame()"
   ]
  },
  {
   "cell_type": "code",
   "execution_count": null,
   "id": "c78f1f54",
   "metadata": {},
   "outputs": [],
   "source": [
    "plt.figure(figsize=(10,5))\n",
    "\n",
    "faixas=np.arange(0, 20, 1)\n",
    "\n",
    "plt.subplot(121)\n",
    "\n",
    "plt.hist(df_quants_rua['PPOB'], edgecolor='black' , bins=faixas , color='skyblue', density=True)\n",
    "plt.xlabel('Proporção de vuneráveis à pobreza', fontsize=10)\n",
    "plt.ylabel('Quantidade de pessoas em situação de rua', fontsize=10)\n",
    "plt.xticks(fontsize=7)\n",
    "plt.yticks(fontsize=7)\n",
    "plt.ylim(0, 0.6)\n",
    "plt.xlim(0, 30)\n",
    "plt.title('Proporção de vuneráveis à pobreza em situação de rua', fontsize=8)\n",
    "\n",
    "plt.subplot(122)\n",
    "\n",
    "plt.hist(df_quants_acolhidos['PPOB'], edgecolor='black' , bins=faixas , color='darkred', density=True)\n",
    "plt.xlabel('Proporção de vuneráveis à pobreza', fontsize=10)\n",
    "plt.ylabel('Quantidade de pessoas acolhidas', fontsize=10)\n",
    "plt.xticks(fontsize=7)\n",
    "plt.yticks(fontsize=7)\n",
    "plt.ylim(0, 0.6)\n",
    "plt.xlim(0, 30)\n",
    "plt.title('Proporção de vuneráveis à pobreza de pessoas acolhidas', fontsize=8)\n",
    "\n",
    "plt.show()"
   ]
  },
  {
   "cell_type": "markdown",
   "id": "937ab369",
   "metadata": {},
   "source": [
    "<p> Para valores menores que 5, há maior tendência de pessoas em situação de rua. Já em casos de Valores maiores que 5, a tendência de estarem em situação de acolhimento é ligeiramente maior. "
   ]
  },
  {
   "cell_type": "markdown",
   "id": "e149283a",
   "metadata": {},
   "source": [
    "#### Análise do Índice de Desigualdade Social (GINI) "
   ]
  },
  {
   "cell_type": "code",
   "execution_count": null,
   "id": "5d01fc2f",
   "metadata": {},
   "outputs": [],
   "source": [
    "df_quants_rua['GINI'].value_counts(normalize=True).to_frame()"
   ]
  },
  {
   "cell_type": "code",
   "execution_count": null,
   "id": "529152f8",
   "metadata": {},
   "outputs": [],
   "source": [
    "df_quants_acolhidos['GINI'].value_counts(normalize=True).to_frame()"
   ]
  },
  {
   "cell_type": "code",
   "execution_count": null,
   "id": "0d7db594",
   "metadata": {},
   "outputs": [],
   "source": [
    "df_quants_rua['GINI'].describe().to_frame()"
   ]
  },
  {
   "cell_type": "code",
   "execution_count": null,
   "id": "dd652bdd",
   "metadata": {},
   "outputs": [],
   "source": [
    "df_quants_acolhidos['GINI'].describe().to_frame()"
   ]
  },
  {
   "cell_type": "code",
   "execution_count": null,
   "id": "a4a2d54e",
   "metadata": {},
   "outputs": [],
   "source": [
    "plt.figure(figsize=(10,5))\n",
    "\n",
    "faixas = np.arange(0,1,0.05)\n",
    "\n",
    "plt.subplot(121)\n",
    "\n",
    "plt.hist(df_quants_rua['GINI'], edgecolor='white' , bins=faixas, color='darkred', density=True)\n",
    "plt.xlabel('Índice de GINI', fontsize=10)\n",
    "plt.ylabel('Density', fontsize=10)\n",
    "plt.xticks(fontsize=7)\n",
    "plt.ylim(0 , 15)\n",
    "plt.xlim(0 , 1)\n",
    "plt.title('Índice de GINI de pessoas em situação de rua', fontsize=12)\n",
    "\n",
    "plt.subplot(122)\n",
    "\n",
    "plt.hist(df_quants_acolhidos['GINI'], edgecolor='white' , color='darkred', bins=faixas, density=True)\n",
    "plt.xlabel('Índice de GINI', fontsize=10)\n",
    "plt.ylabel('Density', fontsize=10)\n",
    "plt.xticks(fontsize=7)\n",
    "plt.yticks(fontsize=7)\n",
    "plt.ylim(0 , 15)\n",
    "plt.xlim(0 , 1)\n",
    "plt.title('Índice de GINI de pessoas acolhidas', fontsize=12)\n",
    "\n",
    "plt.show()"
   ]
  },
  {
   "cell_type": "markdown",
   "id": "9dc24cc2",
   "metadata": {},
   "source": [
    "##### Conclusões "
   ]
  },
  {
   "cell_type": "markdown",
   "id": "be1018c5",
   "metadata": {},
   "source": [
    "<p> Nesse caso, percebe-se que há uma grande dificuldade de observação de diferença entre ambos os Histogramas, e, por isso, percebe-se que, o índice de Gini, pode não ser um parâmetro que identifique informações relevantes para um modelo preditivo. Por, no Geral, apresentar informações muito próximas."
   ]
  },
  {
   "cell_type": "markdown",
   "id": "45929c78",
   "metadata": {},
   "source": [
    "#### Percentual da população de menos de 15 anos e da população de 65 anos e mais em relação à população de 15 a 64 anos (RAZDEP)"
   ]
  },
  {
   "cell_type": "code",
   "execution_count": null,
   "id": "6088f11e",
   "metadata": {},
   "outputs": [],
   "source": [
    "df_quants_rua['RAZDEP'].value_counts(normalize=True).to_frame()"
   ]
  },
  {
   "cell_type": "code",
   "execution_count": null,
   "id": "f9b95f5e",
   "metadata": {},
   "outputs": [],
   "source": [
    "df_quants_acolhidos['RAZDEP'].value_counts(normalize=True).to_frame()"
   ]
  },
  {
   "cell_type": "code",
   "execution_count": null,
   "id": "dd4a9028",
   "metadata": {},
   "outputs": [],
   "source": [
    "df_quants_rua['RAZDEP'].describe().to_frame()"
   ]
  },
  {
   "cell_type": "code",
   "execution_count": null,
   "id": "94575cce",
   "metadata": {},
   "outputs": [],
   "source": [
    "df_quants_acolhidos['RAZDEP'].describe().to_frame()"
   ]
  },
  {
   "cell_type": "code",
   "execution_count": null,
   "id": "0179b199",
   "metadata": {},
   "outputs": [],
   "source": [
    "plt.figure(figsize=(10,5))\n",
    "\n",
    "faixas = np.arange(0, 50, 2)\n",
    "\n",
    "plt.subplot(121)\n",
    "\n",
    "plt.hist(df_quants_rua['RAZDEP'], edgecolor='white' , bins=faixas , color='darkred', density=True)\n",
    "plt.xlabel('RAZDEP', fontsize=10)\n",
    "plt.ylabel('Quantidade de pessoas em situação de rua', fontsize=10)\n",
    "plt.xticks(fontsize=7)\n",
    "plt.yticks(fontsize=7)\n",
    "plt.ylim(0, 0.25)\n",
    "plt.xlim(0, 45)\n",
    "plt.title('RAZDEP de pessoas em situação de rua', fontsize=12)\n",
    "\n",
    "plt.subplot(122)\n",
    "\n",
    "plt.hist(df_quants_acolhidos['RAZDEP'], edgecolor='white' , bins=faixas , color='darkblue', density=True)\n",
    "plt.xlabel('RAZDEP', fontsize=10)\n",
    "plt.ylabel('Quantidade de pessoas acolhidas', fontsize=10)\n",
    "plt.xticks(fontsize=7)\n",
    "plt.yticks(fontsize=7)\n",
    "plt.ylim(0, 0.25)\n",
    "plt.xlim(0, 45)\n",
    "plt.title('RAZDEP de pessoas acolhidas', fontsize=12)\n",
    "\n",
    "plt.show()"
   ]
  },
  {
   "cell_type": "markdown",
   "id": "13953393",
   "metadata": {},
   "source": [
    "<p> Para Valores maiores que 40%, há uma concentração maior de pessoas acolhidas. Já para valores menores, há uma quantidade maior de pessoas em situação de Rua."
   ]
  },
  {
   "cell_type": "markdown",
   "id": "c14a4c6f",
   "metadata": {},
   "source": [
    "## 4. Machine Learning"
   ]
  },
  {
   "cell_type": "markdown",
   "id": "90075be3",
   "metadata": {},
   "source": [
    "---\n",
    "### Classificador por Decision Tree\n",
    "---"
   ]
  },
  {
   "cell_type": "code",
   "execution_count": null,
   "id": "c67bce17",
   "metadata": {},
   "outputs": [],
   "source": [
    "#Função para separar as variaveis \n",
    "\n",
    "df_encoded = pd.get_dummies(df, columns=['Sexo', 'Classificação de idade', 'Cor_Raça_Etnia','Tempo na situação','Parentes no CA'])\n",
    "\n",
    "lista = ['Sexo_Feminino', 'Sexo_Masculino',\n",
    "'Classificação de idade_Criança', 'Classificação de idade_Adolescente',\n",
    "'Classificação de idade_Juventude', 'Classificação de idade_Adulto',\n",
    "'Classificação de idade_Idoso','Cor_Raça_Etnia_Amarela',\n",
    "'Cor_Raça_Etnia_Branca', 'Cor_Raça_Etnia_Indígena',\n",
    "'Cor_Raça_Etnia_Não respondeu', 'Cor_Raça_Etnia_Parda',\n",
    "'Cor_Raça_Etnia_Preta',\n",
    "'Tempo na situação_Até 1 semana',\n",
    "'Tempo na situação_Entre 1 semana e 1 mês',\n",
    "'Tempo na situação_Mais de 1 ano até 2 anos',\n",
    "'Tempo na situação_Mais de 1 mês até 6 meses',\n",
    "'Tempo na situação_Mais de 10 anos',\n",
    "'Tempo na situação_Mais de 2 anos até 5 anos',\n",
    "'Tempo na situação_Mais de 5 anos até 10 anos',\n",
    "'Tempo na situação_Mais de 6 meses até 1 ano',\n",
    "'Parentes no CA_Não',\n",
    "'Parentes no CA_Sim','IDHM','I_ESCOLARIDADE','I_FREQ_PROP',\n",
    "'T_FUNDIN_TODOS_MMEIO','AGUA_ESGOTO','RENOCUP','RDPC','PPOB','GINI','RAZDEP', 'POP', 'PEA18M']\n",
    "\n",
    "def splitdataset(df): \n",
    "\n",
    "    # Separating the target variable \n",
    "    X = df[lista] \n",
    "    Y = df['Situação de rua'] \n",
    "\n",
    "    # Splitting the dataset into train and test \n",
    "    X_train, X_test, y_train, y_test = train_test_split(  \n",
    "    X, Y, test_size = 0.1, random_state = 100) \n",
    "        \n",
    "    return X, Y, X_train, X_test, y_train, y_test \n",
    "\n",
    "# Function to perform training with giniIndex. \n",
    "def train_using_gini(X_train, X_test, y_train): \n",
    "\n",
    "    # Creating the classifier object \n",
    "    clf_gini = DecisionTreeClassifier(criterion = \"gini\", \n",
    "            random_state = 100,max_depth=100, min_samples_leaf=50) \n",
    "\n",
    "    # Performing training \n",
    "    clf_gini.fit(X_train, y_train)\n",
    "\n",
    "    return clf_gini \n",
    "        \n",
    "# Function to perform training with entropy. \n",
    "def train_using_entropy(X_train, X_test, y_train): \n",
    "\n",
    "    # Decision tree with entropy \n",
    "    clf_entropy = DecisionTreeClassifier( \n",
    "            criterion = \"entropy\", random_state = 100, \n",
    "            max_depth = 100, min_samples_leaf = 50) \n",
    "\n",
    "    # Performing training \n",
    "    clf_entropy.fit(X_train, y_train) \n",
    "    return clf_entropy \n",
    "\n",
    "# Function to make predictions \n",
    "def prediction(X_test, clf_object): \n",
    "\n",
    "    # Predicton on test with giniIndex \n",
    "    y_pred = clf_object.predict(X_test) \n",
    "    print(\"Predicted values:\") \n",
    "    print(y_pred) \n",
    "    return y_pred \n",
    "        \n",
    "# Function to calculate accuracy \n",
    "def cal_accuracy(y_test, y_pred): \n",
    "        \n",
    "    print(\"Confusion Matrix: \", \n",
    "        confusion_matrix(y_test, y_pred)) \n",
    "        \n",
    "    print (\"Accuracy : \", \n",
    "    accuracy_score(y_test,y_pred)*100) \n",
    "        \n",
    "    print(\"Report : \", \n",
    "    classification_report(y_test, y_pred)) \n",
    "\n",
    "# Driver code \n",
    "def main(df): \n",
    "\n",
    "    # Building Phase \n",
    "    data = df \n",
    "    X, Y, X_train, X_test, y_train, y_test = splitdataset(data) \n",
    "    clf_gini = train_using_gini(X_train, X_test, y_train) \n",
    "    clf_entropy = train_using_entropy(X_train, X_test, y_train) \n",
    "    print('-'*20, 'Test', '-'*20)           \n",
    "    # Operational Phase \n",
    "    print(\"Results Using Gini Index:\") \n",
    "        \n",
    "    # Prediction using gini \n",
    "    y_pred_gini = prediction(X_test, clf_gini) \n",
    "    cal_accuracy(y_test, y_pred_gini) \n",
    "        \n",
    "    print(\"Results Using Entropy:\") \n",
    "    # Prediction using entropy \n",
    "    y_pred_entropy = prediction(X_test, clf_entropy) \n",
    "    cal_accuracy(y_test, y_pred_entropy)\n",
    "    print('-'*20, 'Train', '-'*20)\n",
    "    print(\"Results Using Gini Index:\")\n",
    "    # Prediction using gini \n",
    "    y_pred_gini = prediction(X_train, clf_gini) \n",
    "    cal_accuracy(y_train, y_pred_gini) \n",
    "        \n",
    "    print(\"Results Using Entropy:\") \n",
    "    # Prediction using entropy \n",
    "    y_pred_entropy = prediction(X_train, clf_entropy) \n",
    "    cal_accuracy(y_train, y_pred_entropy)\n",
    "\n"
   ]
  },
  {
   "cell_type": "code",
   "execution_count": null,
   "id": "b351476a",
   "metadata": {},
   "outputs": [],
   "source": [
    "# Calling main function \n",
    "if __name__==\"__main__\": \n",
    "    main(df_encoded)"
   ]
  },
  {
   "cell_type": "markdown",
   "id": "32758102",
   "metadata": {},
   "source": [
    "---\n",
    "### Classificador por Regressão Logística\n",
    "---"
   ]
  },
  {
   "cell_type": "code",
   "execution_count": null,
   "id": "f181c6ab",
   "metadata": {},
   "outputs": [],
   "source": [
    "df_regressao_logistica = df\n",
    "lista_ints= ['RAZDEP' , 'PPOB' , 'RDPC' , 'RENOCUP' , 'T_FUNDIN_TODOS_MMEIO' , 'PEA18M' , 'POP']\n",
    "\n",
    "scaler = preprocessing.MinMaxScaler()\n",
    "for i in range(len(lista_ints)):\n",
    "    nome_target = lista_ints[i]\n",
    "    coluna_normalizada = df[[nome_target]]\n",
    "    df_regressao_logistica[nome_target] = scaler.fit_transform(coluna_normalizada)"
   ]
  },
  {
   "cell_type": "code",
   "execution_count": null,
   "id": "2d375bcb",
   "metadata": {},
   "outputs": [],
   "source": [
    "\n",
    "df_encoded = pd.get_dummies(df_regressao_logistica, columns=['Sexo', 'Classificação de idade', 'Cor_Raça_Etnia','Tempo na situação','Parentes no CA'])\n",
    "\n",
    "lista = ['Sexo_Feminino', 'Sexo_Masculino', \n",
    "    'Classificação de idade_Criança', 'Classificação de idade_Adolescente',\n",
    "    'Classificação de idade_Juventude', 'Classificação de idade_Adulto',\n",
    "    'Classificação de idade_Idoso',\n",
    "    'Cor_Raça_Etnia_Amarela',\n",
    "    'Cor_Raça_Etnia_Branca', 'Cor_Raça_Etnia_Indígena',\n",
    "    'Cor_Raça_Etnia_Não respondeu', 'Cor_Raça_Etnia_Parda',\n",
    "    'Cor_Raça_Etnia_Preta', \n",
    "    'Tempo na situação_Até 1 semana',\n",
    "    'Tempo na situação_Entre 1 semana e 1 mês',\n",
    "    'Tempo na situação_Mais de 1 ano até 2 anos',\n",
    "    'Tempo na situação_Mais de 1 mês até 6 meses',\n",
    "    'Tempo na situação_Mais de 10 anos',\n",
    "    'Tempo na situação_Mais de 2 anos até 5 anos',\n",
    "    'Tempo na situação_Mais de 5 anos até 10 anos',\n",
    "    'Tempo na situação_Mais de 6 meses até 1 ano',\n",
    "    'Tempo na situação_NR/NS', 'Parentes no CA_Não',\n",
    "    'Parentes no CA_Sim' , 'IDHM' , 'I_ESCOLARIDADE' , 'I_FREQ_PROP' , 'AGUA_ESGOTO' , 'GINI' , 'RAZDEP' , 'PPOB' , 'RDPC' , 'RENOCUP' , 'T_FUNDIN_TODOS_MMEIO' , 'PEA18M' , 'POP']\n",
    "\n",
    "\n",
    "X = df_encoded[lista] \n",
    "Y = df_encoded['Situação de rua'] \n",
    "\n",
    "X_train,X_test,y_train,y_test = train_test_split(X,Y,test_size=0.25,random_state=0)"
   ]
  },
  {
   "cell_type": "code",
   "execution_count": null,
   "id": "2f2eccb5",
   "metadata": {},
   "outputs": [],
   "source": [
    "logistic_regression= LogisticRegression(max_iter=1000)\n",
    "logistic_regression.fit(X_train,y_train)\n",
    "y_pred=logistic_regression.predict(X_test)"
   ]
  },
  {
   "cell_type": "code",
   "execution_count": null,
   "id": "bcc113f0",
   "metadata": {},
   "outputs": [],
   "source": [
    "confusion_matrix = pd.crosstab(y_test, y_pred, rownames=['Actual'], colnames=['Predicted'])\n",
    "sn.heatmap(confusion_matrix, annot=True)\n",
    "plt.show()"
   ]
  },
  {
   "cell_type": "code",
   "execution_count": null,
   "id": "4e7361d4",
   "metadata": {},
   "outputs": [],
   "source": [
    "print('Accuracy: ',metrics.accuracy_score(y_test, y_pred))"
   ]
  },
  {
   "cell_type": "markdown",
   "id": "4553cc2d",
   "metadata": {},
   "source": [
    "---\n",
    "### Classificador por Naive Bayes\n",
    "---"
   ]
  },
  {
   "cell_type": "code",
   "execution_count": null,
   "id": "b3190d18",
   "metadata": {},
   "outputs": [],
   "source": [
    "df_encoded = pd.get_dummies(df, columns=['Sexo', 'Classificação de idade', 'Cor_Raça_Etnia','Tempo na situação','Parentes no CA'])\n",
    "\n",
    "lista = ['Sexo_Feminino', 'Sexo_Masculino', \n",
    "    'Classificação de idade_Criança', 'Classificação de idade_Adolescente',\n",
    "    'Classificação de idade_Juventude', 'Classificação de idade_Adulto',\n",
    "    'Classificação de idade_Idoso',\n",
    "    'Cor_Raça_Etnia_Amarela',\n",
    "    'Cor_Raça_Etnia_Branca', 'Cor_Raça_Etnia_Indígena',\n",
    "    'Cor_Raça_Etnia_Não respondeu', 'Cor_Raça_Etnia_Parda',\n",
    "    'Cor_Raça_Etnia_Preta', \n",
    "    'Tempo na situação_Até 1 semana',\n",
    "    'Tempo na situação_Entre 1 semana e 1 mês',\n",
    "    'Tempo na situação_Mais de 1 ano até 2 anos',\n",
    "    'Tempo na situação_Mais de 1 mês até 6 meses',\n",
    "    'Tempo na situação_Mais de 10 anos',\n",
    "    'Tempo na situação_Mais de 2 anos até 5 anos',\n",
    "    'Tempo na situação_Mais de 5 anos até 10 anos',\n",
    "    'Tempo na situação_Mais de 6 meses até 1 ano',\n",
    "    'Tempo na situação_NR/NS', 'Parentes no CA_Não',\n",
    "    'Parentes no CA_Sim' , 'IDHM' , 'I_ESCOLARIDADE' , 'I_FREQ_PROP' , 'AGUA_ESGOTO' , 'GINI' , 'RAZDEP' , 'PPOB' , 'RDPC' , 'RENOCUP' , 'T_FUNDIN_TODOS_MMEIO' , 'PEA18M' , 'POP']\n",
    "\n",
    "bayes_clf = MultinomialNB() # Multinomial pois ela trabalha com valores discretos, enquanto a Gaussian trabalha com valores contínuos.\n",
    "bayes_clf.fit(X_train,  y_train)\n",
    "\n",
    "X = df_encoded[lista] \n",
    "Y = df_encoded['Situação de rua'] \n",
    "\n",
    "X_train,X_test,y_train,y_test = train_test_split(X,Y,test_size=0.25,random_state=0)\n",
    "\n",
    "Y_predict = pd.Series(bayes_clf.predict(X_test))\n",
    "\n",
    "\n",
    "accuracy_topNB = accuracy_score(y_test, Y_predict)\n",
    "\n",
    "print(f'Acurácia: {accuracy_topNB}')\n"
   ]
  }
 ],
 "metadata": {
  "kernelspec": {
   "display_name": "Python 3 (ipykernel)",
   "language": "python",
   "name": "python3"
  },
  "language_info": {
   "codemirror_mode": {
    "name": "ipython",
    "version": 3
   },
   "file_extension": ".py",
   "mimetype": "text/x-python",
   "name": "python",
   "nbconvert_exporter": "python",
   "pygments_lexer": "ipython3",
   "version": "3.9.13"
  }
 },
 "nbformat": 4,
 "nbformat_minor": 5
}
